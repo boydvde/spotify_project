{
 "cells": [
  {
   "cell_type": "markdown",
   "metadata": {},
   "source": [
    "# Import Required Libraries\n",
    "Import the necessary libraries, including sqlite3, random, networkx, pandas, community_louvain, and plotly."
   ]
  },
  {
   "cell_type": "code",
   "execution_count": 18,
   "metadata": {},
   "outputs": [],
   "source": [
    "import sqlite3\n",
    "import random\n",
    "import networkx as nx\n",
    "import pandas as pd\n",
    "import community as community_louvain\n",
    "import plotly.graph_objects as go"
   ]
  },
  {
   "cell_type": "markdown",
   "metadata": {},
   "source": [
    "# Load Data from Database\n",
    "Load data from the SQLite database into a pandas DataFrame using a SQL query. The query selects pairs of artists who have collaborated on tracks, along with the count of their collaborations. The data is filtered based on the popularity of the artists and tracks."
   ]
  },
  {
   "cell_type": "code",
   "execution_count": null,
   "metadata": {},
   "outputs": [
    {
     "data": {
      "text/html": [
       "<div>\n",
       "<style scoped>\n",
       "    .dataframe tbody tr th:only-of-type {\n",
       "        vertical-align: middle;\n",
       "    }\n",
       "\n",
       "    .dataframe tbody tr th {\n",
       "        vertical-align: top;\n",
       "    }\n",
       "\n",
       "    .dataframe thead th {\n",
       "        text-align: right;\n",
       "    }\n",
       "</style>\n",
       "<table border=\"1\" class=\"dataframe\">\n",
       "  <thead>\n",
       "    <tr style=\"text-align: right;\">\n",
       "      <th></th>\n",
       "      <th>artist_1</th>\n",
       "      <th>artist_2</th>\n",
       "      <th>collaboration_count</th>\n",
       "    </tr>\n",
       "  </thead>\n",
       "  <tbody>\n",
       "    <tr>\n",
       "      <th>0</th>\n",
       "      <td>Metro Boomin</td>\n",
       "      <td>Future</td>\n",
       "      <td>29</td>\n",
       "    </tr>\n",
       "    <tr>\n",
       "      <th>1</th>\n",
       "      <td>Quavo</td>\n",
       "      <td>Travis Scott</td>\n",
       "      <td>9</td>\n",
       "    </tr>\n",
       "    <tr>\n",
       "      <th>2</th>\n",
       "      <td>Justin Timberlake</td>\n",
       "      <td>Anna Kendrick</td>\n",
       "      <td>8</td>\n",
       "    </tr>\n",
       "    <tr>\n",
       "      <th>3</th>\n",
       "      <td>Drake</td>\n",
       "      <td>Lil Wayne</td>\n",
       "      <td>7</td>\n",
       "    </tr>\n",
       "    <tr>\n",
       "      <th>4</th>\n",
       "      <td>Ellie Goulding</td>\n",
       "      <td>Calvin Harris</td>\n",
       "      <td>7</td>\n",
       "    </tr>\n",
       "  </tbody>\n",
       "</table>\n",
       "</div>"
      ],
      "text/plain": [
       "            artist_1       artist_2  collaboration_count\n",
       "0       Metro Boomin         Future                   29\n",
       "1              Quavo   Travis Scott                    9\n",
       "2  Justin Timberlake  Anna Kendrick                    8\n",
       "3              Drake      Lil Wayne                    7\n",
       "4     Ellie Goulding  Calvin Harris                    7"
      ]
     },
     "execution_count": 19,
     "metadata": {},
     "output_type": "execute_result"
    }
   ],
   "source": [
    "# Load data from the SQLite database into a pandas DataFrame using a SQL query\n",
    "def load(conn, filters = {\"artist_popularity\": 50, \"track_popularity\": 10}):\n",
    "    query = \"\"\"\n",
    "        SELECT \n",
    "            a1.name AS artist_1,\n",
    "            a2.name AS artist_2,\n",
    "            COUNT(*) AS collaboration_count\n",
    "        FROM TrackArtist ta1\n",
    "        JOIN TrackArtist ta2 ON ta1.track_id = ta2.track_id AND ta1.artist_id < ta2.artist_id\n",
    "        JOIN Artist a1 ON ta1.artist_id = a1.id\n",
    "        JOIN Artist a2 ON ta2.artist_id = a2.id\n",
    "        JOIN Track ON ta1.track_id = Track.id\n",
    "        WHERE \n",
    "            a1.name IS NOT NULL \n",
    "            AND a2.name IS NOT NULL\n",
    "            AND Track.popularity > ?\n",
    "            AND a1.popularity > ?\n",
    "        GROUP BY artist_1, artist_2\n",
    "        ORDER BY collaboration_count DESC\n",
    "    \"\"\"\n",
    "    data_frame = pd.read_sql_query(query, conn, params=(filters[\"track_popularity\"], filters[\"artist_popularity\"]))\n",
    "    return data_frame\n",
    "\n",
    "# Establish a connection to the SQLite database\n",
    "conn = sqlite3.connect(\"../db/spotify.sqlite\")\n",
    "\n",
    "# Define the filters to apply to the data\n",
    "filters = {\n",
    "    \"artist_popularity\": 70, # The minimum popularity of an artist\n",
    "    \"track_popularity\": 50 # The minimum popularity of a track\n",
    "}\n",
    "\n",
    "# Load the data into a DataFrame\n",
    "data_frame = load(conn, filters)\n",
    "\n",
    "# Display the first few rows of the DataFrame\n",
    "data_frame.head()"
   ]
  },
  {
   "cell_type": "markdown",
   "metadata": {},
   "source": [
    "# Show tracks\n",
    "List the first 10 tracks of the artist pair with the highest collaboration count."
   ]
  },
  {
   "cell_type": "code",
   "execution_count": 20,
   "metadata": {},
   "outputs": [
    {
     "data": {
      "text/html": [
       "<div>\n",
       "<style scoped>\n",
       "    .dataframe tbody tr th:only-of-type {\n",
       "        vertical-align: middle;\n",
       "    }\n",
       "\n",
       "    .dataframe tbody tr th {\n",
       "        vertical-align: top;\n",
       "    }\n",
       "\n",
       "    .dataframe thead th {\n",
       "        text-align: right;\n",
       "    }\n",
       "</style>\n",
       "<table border=\"1\" class=\"dataframe\">\n",
       "  <thead>\n",
       "    <tr style=\"text-align: right;\">\n",
       "      <th></th>\n",
       "      <th>track_name</th>\n",
       "      <th>track_id</th>\n",
       "    </tr>\n",
       "  </thead>\n",
       "  <tbody>\n",
       "    <tr>\n",
       "      <th>0</th>\n",
       "      <td>All I Know</td>\n",
       "      <td>0NWqNXBJTpXbkI5rPWNy3p</td>\n",
       "    </tr>\n",
       "    <tr>\n",
       "      <th>1</th>\n",
       "      <td>Cold (feat. Future)</td>\n",
       "      <td>2NlTOhsAamXOaZciOXbITb</td>\n",
       "    </tr>\n",
       "    <tr>\n",
       "      <th>2</th>\n",
       "      <td>Thrusting (feat. Swae Lee &amp; Future)</td>\n",
       "      <td>4ZrutH1rzpA4v3Bg9nma55</td>\n",
       "    </tr>\n",
       "    <tr>\n",
       "      <th>3</th>\n",
       "      <td>Turn On The Lights again.. (feat. Future &amp; Fre...</td>\n",
       "      <td>4ptnQ0kQnN1U1Ig8TSslj6</td>\n",
       "    </tr>\n",
       "    <tr>\n",
       "      <th>4</th>\n",
       "      <td>Fine Whine (feat. Joe Fox, Future &amp; M.I.A.)</td>\n",
       "      <td>2WxzLbJfPA2vJGxQiKd7Jq</td>\n",
       "    </tr>\n",
       "    <tr>\n",
       "      <th>5</th>\n",
       "      <td>On Time (with John Legend)</td>\n",
       "      <td>0YFqKxV9uNu6LUeYkLOKRS</td>\n",
       "    </tr>\n",
       "    <tr>\n",
       "      <th>6</th>\n",
       "      <td>Superhero (Heroes &amp; Villains) [with Future &amp; C...</td>\n",
       "      <td>0vjeOZ3Ft5jvAi9SBFJm1j</td>\n",
       "    </tr>\n",
       "    <tr>\n",
       "      <th>7</th>\n",
       "      <td>Too Many Nights (feat. Don Toliver &amp; with Future)</td>\n",
       "      <td>2Hh3ETdQKrmSI3QS0hme7g</td>\n",
       "    </tr>\n",
       "    <tr>\n",
       "      <th>8</th>\n",
       "      <td>Raindrops (Insane) [with Travis Scott]</td>\n",
       "      <td>1pacwLXyRO47ka0v6LTIiY</td>\n",
       "    </tr>\n",
       "    <tr>\n",
       "      <th>9</th>\n",
       "      <td>Umbrella (with 21 Savage &amp; Young Nudy)</td>\n",
       "      <td>2Yt4SXIgmoaPZHGdRafp4P</td>\n",
       "    </tr>\n",
       "  </tbody>\n",
       "</table>\n",
       "</div>"
      ],
      "text/plain": [
       "                                          track_name                track_id\n",
       "0                                         All I Know  0NWqNXBJTpXbkI5rPWNy3p\n",
       "1                                Cold (feat. Future)  2NlTOhsAamXOaZciOXbITb\n",
       "2                Thrusting (feat. Swae Lee & Future)  4ZrutH1rzpA4v3Bg9nma55\n",
       "3  Turn On The Lights again.. (feat. Future & Fre...  4ptnQ0kQnN1U1Ig8TSslj6\n",
       "4        Fine Whine (feat. Joe Fox, Future & M.I.A.)  2WxzLbJfPA2vJGxQiKd7Jq\n",
       "5                         On Time (with John Legend)  0YFqKxV9uNu6LUeYkLOKRS\n",
       "6  Superhero (Heroes & Villains) [with Future & C...  0vjeOZ3Ft5jvAi9SBFJm1j\n",
       "7  Too Many Nights (feat. Don Toliver & with Future)  2Hh3ETdQKrmSI3QS0hme7g\n",
       "8             Raindrops (Insane) [with Travis Scott]  1pacwLXyRO47ka0v6LTIiY\n",
       "9             Umbrella (with 21 Savage & Young Nudy)  2Yt4SXIgmoaPZHGdRafp4P"
      ]
     },
     "execution_count": 20,
     "metadata": {},
     "output_type": "execute_result"
    }
   ],
   "source": [
    "# Display the first 10 track names of the top artist pair\n",
    "\n",
    "# Define the specific artist pair\n",
    "artist_1 = data_frame.iloc[0][\"artist_1\"]\n",
    "artist_2 = data_frame.iloc[0][\"artist_2\"]\n",
    "\n",
    "# SQL query to fetch the top 10 tracks of the specific artist pair\n",
    "query = \"\"\"\n",
    "SELECT DISTINCT\n",
    "    Track.name as track_name,\n",
    "    Track.id as track_id\n",
    "FROM Track\n",
    "JOIN TrackArtist ON Track.id = TrackArtist.track_id\n",
    "JOIN Artist ON TrackArtist.artist_id = Artist.id\n",
    "WHERE Artist.name IN (?, ?)\n",
    "AND Track.popularity > ?\n",
    "\"\"\"\n",
    "\n",
    "# Execute the query and load the data into a DataFrame\n",
    "top_tracks_df = pd.read_sql_query(query, conn, params=(artist_1, artist_2, filters[\"track_popularity\"]))\n",
    "\n",
    "# Display the top 10 tracks\n",
    "top_tracks_df.head(10)"
   ]
  },
  {
   "cell_type": "markdown",
   "metadata": {},
   "source": [
    "# Create Collaboration Graph\n",
    "Create a NetworkX graph from the DataFrame, filtering edges based on a minimum number of collaborations."
   ]
  },
  {
   "cell_type": "code",
   "execution_count": 21,
   "metadata": {},
   "outputs": [
    {
     "name": "stdout",
     "output_type": "stream",
     "text": [
      "Number of nodes: 41\n",
      "Number of edges: 36\n"
     ]
    }
   ],
   "source": [
    "# Create Collaboration Graph\n",
    "\n",
    "# Create NetworkX graph from the DataFrame, filtering edges based on a minimum number of collaborations\n",
    "def create_graph(data_frame: pd.DataFrame, min_collaborations: int = 3) -> nx.Graph:\n",
    "    # Create NetworkX graph\n",
    "    G = nx.Graph()\n",
    "    \n",
    "    # Add edges to the graph\n",
    "    for _, row in data_frame.iterrows():\n",
    "        artist_1, artist_2 = row[\"artist_1\"], row[\"artist_2\"]\n",
    "        weight = row[\"collaboration_count\"]\n",
    "        G.add_edge(artist_1, artist_2, weight=weight)\n",
    "\n",
    "    # Filter out low-weight edges\n",
    "    filtered_edges = [(u, v) for u, v, d in G.edges(data=True) if d[\"weight\"] > min_collaborations]\n",
    "    G_filtered = G.edge_subgraph(filtered_edges).copy()\n",
    "\n",
    "    return G_filtered\n",
    "\n",
    "# Set the minimum number of collaborations\n",
    "min_collaborations = 4\n",
    "\n",
    "# Create the filtered graph\n",
    "G_filtered = create_graph(data_frame, min_collaborations)\n",
    "\n",
    "# Display the number of nodes and edges in the filtered graph\n",
    "print(f\"Number of nodes: {G_filtered.number_of_nodes()}\")\n",
    "print(f\"Number of edges: {G_filtered.number_of_edges()}\")"
   ]
  },
  {
   "cell_type": "markdown",
   "metadata": {},
   "source": [
    "# Calculate Centrality Measures\n",
    "Calculate degree centrality and betweenness centrality for the nodes in the graph."
   ]
  },
  {
   "cell_type": "code",
   "execution_count": 22,
   "metadata": {},
   "outputs": [
    {
     "name": "stdout",
     "output_type": "stream",
     "text": [
      "\n",
      "Top 5 nodes by degree centrality:\n",
      "The Weeknd: 0.125\n",
      "Travis Scott: 0.125\n",
      "Metro Boomin: 0.1\n",
      "A$AP Rocky: 0.1\n",
      "Future: 0.1\n",
      "\n",
      "Top 5 nodes by betweenness centrality:\n",
      "Metro Boomin: 0.09871794871794871\n",
      "Future: 0.08846153846153847\n",
      "A$AP Rocky: 0.0782051282051282\n",
      "Travis Scott: 0.07051282051282051\n",
      "The Weeknd: 0.06153846153846154\n"
     ]
    }
   ],
   "source": [
    "# Calculate Centrality Measures\n",
    "\n",
    "# Calculate degree centrality\n",
    "degree_centrality = nx.degree_centrality(G_filtered)\n",
    "\n",
    "# Calculate betweenness centrality\n",
    "betweenness_centrality = nx.betweenness_centrality(G_filtered)\n",
    "\n",
    "# Display the top 5 nodes by degree centrality\n",
    "top_degree_centrality = sorted(degree_centrality.items(), key=lambda x: x[1], reverse=True)[:5]\n",
    "print(\"\\nTop 5 nodes by degree centrality:\")\n",
    "for node, centrality in top_degree_centrality:\n",
    "    print(f\"{node}: {centrality}\")\n",
    "\n",
    "# Display the top 5 nodes by betweenness centrality\n",
    "top_betweenness_centrality = sorted(betweenness_centrality.items(), key=lambda x: x[1], reverse=True)[:5]\n",
    "print(\"\\nTop 5 nodes by betweenness centrality:\")\n",
    "for node, centrality in top_betweenness_centrality:\n",
    "    print(f\"{node}: {centrality}\")"
   ]
  },
  {
   "cell_type": "markdown",
   "metadata": {},
   "source": [
    "# Detect Communities\n",
    "Use the Louvain method to detect communities within the graph and print the number of detected communities."
   ]
  },
  {
   "cell_type": "code",
   "execution_count": 23,
   "metadata": {},
   "outputs": [
    {
     "name": "stdout",
     "output_type": "stream",
     "text": [
      "Detected 13 artist communities.\n"
     ]
    }
   ],
   "source": [
    "# Detect Communities\n",
    "\n",
    "# Use the Louvain method to detect communities within the graph\n",
    "partition = community_louvain.best_partition(G_filtered)\n",
    "\n",
    "# Print the number of detected communities\n",
    "num_communities = len(set(partition.values()))\n",
    "print(f\"Detected {num_communities} artist communities.\")"
   ]
  },
  {
   "cell_type": "markdown",
   "metadata": {},
   "source": [
    "# Visualize Collaboration Network\n",
    "Visualize the collaboration network using Plotly, with nodes colored by community."
   ]
  },
  {
   "cell_type": "code",
   "execution_count": 24,
   "metadata": {},
   "outputs": [
    {
     "data": {
      "application/vnd.plotly.v1+json": {
       "config": {
        "plotlyServerURL": "https://plot.ly"
       },
       "data": [
        {
         "hoverinfo": "none",
         "line": {
          "color": "#888",
          "width": 0.5
         },
         "mode": "lines",
         "type": "scatter",
         "x": [
          -0.5079462962547119,
          -0.5361148250208381,
          null,
          0.8444018681293674,
          0.8367933684259831,
          null,
          -0.2948296285285206,
          -0.22881927233779095,
          null,
          -0.2948296285285206,
          -0.34781760836104625,
          null,
          -0.10232682893040197,
          -0.12139559123998109,
          null,
          -0.10232682893040197,
          -0.08565069791772154,
          null,
          -0.23951891472464867,
          -0.22881927233779095,
          null,
          -0.12139559123998109,
          -0.08565069791772154,
          null,
          -0.12139559123998109,
          -0.16245493240285092,
          null,
          0.05700299275299461,
          0.039983849322679926,
          null,
          -0.003508237459225572,
          -0.04420238053321693,
          null,
          0.7089520567058363,
          0.7412361481393309,
          null,
          -0.367504682688358,
          -0.34056835652749573,
          null,
          -0.16245493240285092,
          -0.15373939490284336,
          null,
          -0.8075381862744403,
          -0.8419885615460214,
          null,
          -0.15373939490284336,
          -0.11362106028640069,
          null,
          -0.15373939490284336,
          -0.1463272899225196,
          null,
          0.19385443084224963,
          0.18872972195257506,
          null,
          0.19385443084224963,
          0.22655181997300153,
          null,
          0.15855367109641166,
          0.1407199639762165,
          null,
          -0.0603514368370916,
          -0.08565069791772154,
          null,
          -0.0603514368370916,
          -0.04251795803315438,
          null,
          -0.2640887238834667,
          -0.22881927233779095,
          null,
          0.6830635279388388,
          0.6518939966180849,
          null,
          -0.1463272899225196,
          -0.11362106028640069,
          null,
          -0.1463272899225196,
          -0.1422785075298482,
          null,
          -0.1463272899225196,
          -0.22881927233779095,
          null,
          0.012993697144327623,
          -0.04420238053321693,
          null,
          -0.11362106028640069,
          -0.04420238053321693,
          null,
          -0.11362106028640069,
          -0.08565069791772154,
          null,
          0.22175281359563442,
          0.24459211195211888,
          null,
          0.22175281359563442,
          0.18872972195257506,
          null,
          0.22175281359563442,
          0.22655181997300153,
          null,
          -0.011440058866756767,
          -0.04420238053321693,
          null,
          0.015473392443701073,
          0.039983849322679926,
          null,
          -0.04420238053321693,
          -0.08565069791772154,
          null
         ],
         "y": [
          0.7093455041664319,
          0.7214167602358383,
          null,
          0.08367526707925281,
          0.10996054822638394,
          null,
          -0.14777743993731038,
          -0.14863340508490874,
          null,
          -0.14777743993731038,
          -0.14409011559291313,
          null,
          -0.33306802916644396,
          -0.3100321897046783,
          null,
          -0.33306802916644396,
          -0.291656688000501,
          null,
          -0.09876825968285649,
          -0.14863340508490874,
          null,
          -0.3100321897046783,
          -0.291656688000501,
          null,
          -0.3100321897046783,
          -0.2890006914661528,
          null,
          0.44597637299433457,
          0.4196822972468394,
          null,
          -0.2701451150197723,
          -0.24376174773313428,
          null,
          -0.3980020753853886,
          -0.41607291180986405,
          null,
          0.6256293875275444,
          0.6405912839562764,
          null,
          -0.2890006914661528,
          -0.2397464690425723,
          null,
          -0.532715232836199,
          -0.5522695930393999,
          null,
          -0.2397464690425723,
          -0.22294139534850377,
          null,
          -0.2397464690425723,
          -0.1953616807827356,
          null,
          0.7075998004488072,
          0.6731339383622418,
          null,
          0.7075998004488072,
          0.6920598686407091,
          null,
          -1,
          -0.9749662050107717,
          null,
          -0.3506326260665353,
          -0.291656688000501,
          null,
          -0.3506326260665353,
          -0.40257038957351193,
          null,
          -0.12557510866802363,
          -0.14863340508490874,
          null,
          0.4019558426786049,
          0.38563786439172726,
          null,
          -0.1953616807827356,
          -0.22294139534850377,
          null,
          -0.1953616807827356,
          -0.14873196515980472,
          null,
          -0.1953616807827356,
          -0.14863340508490874,
          null,
          -0.23887311558577223,
          -0.24376174773313428,
          null,
          -0.22294139534850377,
          -0.24376174773313428,
          null,
          -0.22294139534850377,
          -0.291656688000501,
          null,
          0.6492988450802663,
          0.6240858372402839,
          null,
          0.6492988450802663,
          0.6731339383622418,
          null,
          0.6492988450802663,
          0.6920598686407091,
          null,
          -0.20986381614113497,
          -0.24376174773313428,
          null,
          0.39520684756334606,
          0.4196822972468394,
          null,
          -0.24376174773313428,
          -0.291656688000501,
          null
         ]
        },
        {
         "hoverinfo": "text",
         "marker": {
          "color": [
           "#92e0be",
           "#f4d768",
           "#268db4",
           "#7ff99a",
           "#268db4",
           "#7ff99a",
           "#c0d728",
           "#3797d9",
           "#90d5a9",
           "#49fd8f",
           "#7ff99a",
           "#6adc7d",
           "#86df4c",
           "#104696",
           "#b2a74f",
           "#7ff99a",
           "#268db4",
           "#31ba64",
           "#86df4c",
           "#3797d9",
           "#268db4",
           "#268db4",
           "#49fd8f",
           "#86df4c",
           "#b2a74f",
           "#86df4c",
           "#104696",
           "#3797d9",
           "#104696",
           "#6adc7d",
           "#c0d728",
           "#3797d9",
           "#31ba64",
           "#c0d728",
           "#92e0be",
           "#90d5a9",
           "#104696",
           "#f4d768",
           "#7ff99a",
           "#7ff99a",
           "#104696"
          ],
          "size": 10
         },
         "mode": "markers",
         "text": [
          "Lady Gaga",
          "Calvin Harris",
          "Playboi Carti",
          "Huncho Jack",
          "ScHoolboy Q",
          "Quavo",
          "League of Legends",
          "Ariana Grande",
          "Trippie Redd",
          "Kygo",
          "Justin Bieber",
          "Shawn Mendes",
          "Don Toliver",
          "Kid Cudi",
          "Tainy",
          "Young Thug",
          "Tyler, The Creator",
          "Drake",
          "Metro Boomin",
          "Lana Del Rey",
          "A$AP Mob",
          "A$AP Rocky",
          "OneRepublic",
          "Future",
          "Bad Bunny",
          "21 Savage",
          "Justin Timberlake",
          "Lily-Rose Depp",
          "Anna Kendrick",
          "Camila Cabello",
          "Imagine Dragons",
          "The Weeknd",
          "Lil Wayne",
          "Arcane",
          "Bradley Cooper",
          "Juice WRLD",
          "Daveed Diggs",
          "Ellie Goulding",
          "Gunna",
          "Travis Scott",
          "Eric Andre"
         ],
         "type": "scatter",
         "x": [
          -0.5079462962547119,
          0.8444018681293674,
          -0.2948296285285206,
          -0.10232682893040197,
          -0.23951891472464867,
          -0.12139559123998109,
          0.05700299275299461,
          -0.003508237459225572,
          0.7089520567058363,
          -0.367504682688358,
          -0.16245493240285092,
          -0.8075381862744403,
          -0.15373939490284336,
          0.19385443084224963,
          0.15855367109641166,
          -0.0603514368370916,
          -0.2640887238834667,
          0.6830635279388388,
          -0.1463272899225196,
          0.012993697144327623,
          -0.34781760836104625,
          -0.22881927233779095,
          -0.34056835652749573,
          -0.11362106028640069,
          0.1407199639762165,
          -0.1422785075298482,
          0.22175281359563442,
          -0.011440058866756767,
          0.24459211195211888,
          -0.8419885615460214,
          0.015473392443701073,
          -0.04420238053321693,
          0.6518939966180849,
          0.039983849322679926,
          -0.5361148250208381,
          0.7412361481393309,
          0.18872972195257506,
          0.8367933684259831,
          -0.04251795803315438,
          -0.08565069791772154,
          0.22655181997300153
         ],
         "y": [
          0.7093455041664319,
          0.08367526707925281,
          -0.14777743993731038,
          -0.33306802916644396,
          -0.09876825968285649,
          -0.3100321897046783,
          0.44597637299433457,
          -0.2701451150197723,
          -0.3980020753853886,
          0.6256293875275444,
          -0.2890006914661528,
          -0.532715232836199,
          -0.2397464690425723,
          0.7075998004488072,
          -1,
          -0.3506326260665353,
          -0.12557510866802363,
          0.4019558426786049,
          -0.1953616807827356,
          -0.23887311558577223,
          -0.14409011559291313,
          -0.14863340508490874,
          0.6405912839562764,
          -0.22294139534850377,
          -0.9749662050107717,
          -0.14873196515980472,
          0.6492988450802663,
          -0.20986381614113497,
          0.6240858372402839,
          -0.5522695930393999,
          0.39520684756334606,
          -0.24376174773313428,
          0.38563786439172726,
          0.4196822972468394,
          0.7214167602358383,
          -0.41607291180986405,
          0.6731339383622418,
          0.10996054822638394,
          -0.40257038957351193,
          -0.291656688000501,
          0.6920598686407091
         ]
        }
       ],
       "layout": {
        "height": 800,
        "hovermode": "closest",
        "showlegend": false,
        "template": {
         "data": {
          "bar": [
           {
            "error_x": {
             "color": "#2a3f5f"
            },
            "error_y": {
             "color": "#2a3f5f"
            },
            "marker": {
             "line": {
              "color": "#E5ECF6",
              "width": 0.5
             },
             "pattern": {
              "fillmode": "overlay",
              "size": 10,
              "solidity": 0.2
             }
            },
            "type": "bar"
           }
          ],
          "barpolar": [
           {
            "marker": {
             "line": {
              "color": "#E5ECF6",
              "width": 0.5
             },
             "pattern": {
              "fillmode": "overlay",
              "size": 10,
              "solidity": 0.2
             }
            },
            "type": "barpolar"
           }
          ],
          "carpet": [
           {
            "aaxis": {
             "endlinecolor": "#2a3f5f",
             "gridcolor": "white",
             "linecolor": "white",
             "minorgridcolor": "white",
             "startlinecolor": "#2a3f5f"
            },
            "baxis": {
             "endlinecolor": "#2a3f5f",
             "gridcolor": "white",
             "linecolor": "white",
             "minorgridcolor": "white",
             "startlinecolor": "#2a3f5f"
            },
            "type": "carpet"
           }
          ],
          "choropleth": [
           {
            "colorbar": {
             "outlinewidth": 0,
             "ticks": ""
            },
            "type": "choropleth"
           }
          ],
          "contour": [
           {
            "colorbar": {
             "outlinewidth": 0,
             "ticks": ""
            },
            "colorscale": [
             [
              0,
              "#0d0887"
             ],
             [
              0.1111111111111111,
              "#46039f"
             ],
             [
              0.2222222222222222,
              "#7201a8"
             ],
             [
              0.3333333333333333,
              "#9c179e"
             ],
             [
              0.4444444444444444,
              "#bd3786"
             ],
             [
              0.5555555555555556,
              "#d8576b"
             ],
             [
              0.6666666666666666,
              "#ed7953"
             ],
             [
              0.7777777777777778,
              "#fb9f3a"
             ],
             [
              0.8888888888888888,
              "#fdca26"
             ],
             [
              1,
              "#f0f921"
             ]
            ],
            "type": "contour"
           }
          ],
          "contourcarpet": [
           {
            "colorbar": {
             "outlinewidth": 0,
             "ticks": ""
            },
            "type": "contourcarpet"
           }
          ],
          "heatmap": [
           {
            "colorbar": {
             "outlinewidth": 0,
             "ticks": ""
            },
            "colorscale": [
             [
              0,
              "#0d0887"
             ],
             [
              0.1111111111111111,
              "#46039f"
             ],
             [
              0.2222222222222222,
              "#7201a8"
             ],
             [
              0.3333333333333333,
              "#9c179e"
             ],
             [
              0.4444444444444444,
              "#bd3786"
             ],
             [
              0.5555555555555556,
              "#d8576b"
             ],
             [
              0.6666666666666666,
              "#ed7953"
             ],
             [
              0.7777777777777778,
              "#fb9f3a"
             ],
             [
              0.8888888888888888,
              "#fdca26"
             ],
             [
              1,
              "#f0f921"
             ]
            ],
            "type": "heatmap"
           }
          ],
          "histogram": [
           {
            "marker": {
             "pattern": {
              "fillmode": "overlay",
              "size": 10,
              "solidity": 0.2
             }
            },
            "type": "histogram"
           }
          ],
          "histogram2d": [
           {
            "colorbar": {
             "outlinewidth": 0,
             "ticks": ""
            },
            "colorscale": [
             [
              0,
              "#0d0887"
             ],
             [
              0.1111111111111111,
              "#46039f"
             ],
             [
              0.2222222222222222,
              "#7201a8"
             ],
             [
              0.3333333333333333,
              "#9c179e"
             ],
             [
              0.4444444444444444,
              "#bd3786"
             ],
             [
              0.5555555555555556,
              "#d8576b"
             ],
             [
              0.6666666666666666,
              "#ed7953"
             ],
             [
              0.7777777777777778,
              "#fb9f3a"
             ],
             [
              0.8888888888888888,
              "#fdca26"
             ],
             [
              1,
              "#f0f921"
             ]
            ],
            "type": "histogram2d"
           }
          ],
          "histogram2dcontour": [
           {
            "colorbar": {
             "outlinewidth": 0,
             "ticks": ""
            },
            "colorscale": [
             [
              0,
              "#0d0887"
             ],
             [
              0.1111111111111111,
              "#46039f"
             ],
             [
              0.2222222222222222,
              "#7201a8"
             ],
             [
              0.3333333333333333,
              "#9c179e"
             ],
             [
              0.4444444444444444,
              "#bd3786"
             ],
             [
              0.5555555555555556,
              "#d8576b"
             ],
             [
              0.6666666666666666,
              "#ed7953"
             ],
             [
              0.7777777777777778,
              "#fb9f3a"
             ],
             [
              0.8888888888888888,
              "#fdca26"
             ],
             [
              1,
              "#f0f921"
             ]
            ],
            "type": "histogram2dcontour"
           }
          ],
          "mesh3d": [
           {
            "colorbar": {
             "outlinewidth": 0,
             "ticks": ""
            },
            "type": "mesh3d"
           }
          ],
          "parcoords": [
           {
            "line": {
             "colorbar": {
              "outlinewidth": 0,
              "ticks": ""
             }
            },
            "type": "parcoords"
           }
          ],
          "pie": [
           {
            "automargin": true,
            "type": "pie"
           }
          ],
          "scatter": [
           {
            "fillpattern": {
             "fillmode": "overlay",
             "size": 10,
             "solidity": 0.2
            },
            "type": "scatter"
           }
          ],
          "scatter3d": [
           {
            "line": {
             "colorbar": {
              "outlinewidth": 0,
              "ticks": ""
             }
            },
            "marker": {
             "colorbar": {
              "outlinewidth": 0,
              "ticks": ""
             }
            },
            "type": "scatter3d"
           }
          ],
          "scattercarpet": [
           {
            "marker": {
             "colorbar": {
              "outlinewidth": 0,
              "ticks": ""
             }
            },
            "type": "scattercarpet"
           }
          ],
          "scattergeo": [
           {
            "marker": {
             "colorbar": {
              "outlinewidth": 0,
              "ticks": ""
             }
            },
            "type": "scattergeo"
           }
          ],
          "scattergl": [
           {
            "marker": {
             "colorbar": {
              "outlinewidth": 0,
              "ticks": ""
             }
            },
            "type": "scattergl"
           }
          ],
          "scattermap": [
           {
            "marker": {
             "colorbar": {
              "outlinewidth": 0,
              "ticks": ""
             }
            },
            "type": "scattermap"
           }
          ],
          "scattermapbox": [
           {
            "marker": {
             "colorbar": {
              "outlinewidth": 0,
              "ticks": ""
             }
            },
            "type": "scattermapbox"
           }
          ],
          "scatterpolar": [
           {
            "marker": {
             "colorbar": {
              "outlinewidth": 0,
              "ticks": ""
             }
            },
            "type": "scatterpolar"
           }
          ],
          "scatterpolargl": [
           {
            "marker": {
             "colorbar": {
              "outlinewidth": 0,
              "ticks": ""
             }
            },
            "type": "scatterpolargl"
           }
          ],
          "scatterternary": [
           {
            "marker": {
             "colorbar": {
              "outlinewidth": 0,
              "ticks": ""
             }
            },
            "type": "scatterternary"
           }
          ],
          "surface": [
           {
            "colorbar": {
             "outlinewidth": 0,
             "ticks": ""
            },
            "colorscale": [
             [
              0,
              "#0d0887"
             ],
             [
              0.1111111111111111,
              "#46039f"
             ],
             [
              0.2222222222222222,
              "#7201a8"
             ],
             [
              0.3333333333333333,
              "#9c179e"
             ],
             [
              0.4444444444444444,
              "#bd3786"
             ],
             [
              0.5555555555555556,
              "#d8576b"
             ],
             [
              0.6666666666666666,
              "#ed7953"
             ],
             [
              0.7777777777777778,
              "#fb9f3a"
             ],
             [
              0.8888888888888888,
              "#fdca26"
             ],
             [
              1,
              "#f0f921"
             ]
            ],
            "type": "surface"
           }
          ],
          "table": [
           {
            "cells": {
             "fill": {
              "color": "#EBF0F8"
             },
             "line": {
              "color": "white"
             }
            },
            "header": {
             "fill": {
              "color": "#C8D4E3"
             },
             "line": {
              "color": "white"
             }
            },
            "type": "table"
           }
          ]
         },
         "layout": {
          "annotationdefaults": {
           "arrowcolor": "#2a3f5f",
           "arrowhead": 0,
           "arrowwidth": 1
          },
          "autotypenumbers": "strict",
          "coloraxis": {
           "colorbar": {
            "outlinewidth": 0,
            "ticks": ""
           }
          },
          "colorscale": {
           "diverging": [
            [
             0,
             "#8e0152"
            ],
            [
             0.1,
             "#c51b7d"
            ],
            [
             0.2,
             "#de77ae"
            ],
            [
             0.3,
             "#f1b6da"
            ],
            [
             0.4,
             "#fde0ef"
            ],
            [
             0.5,
             "#f7f7f7"
            ],
            [
             0.6,
             "#e6f5d0"
            ],
            [
             0.7,
             "#b8e186"
            ],
            [
             0.8,
             "#7fbc41"
            ],
            [
             0.9,
             "#4d9221"
            ],
            [
             1,
             "#276419"
            ]
           ],
           "sequential": [
            [
             0,
             "#0d0887"
            ],
            [
             0.1111111111111111,
             "#46039f"
            ],
            [
             0.2222222222222222,
             "#7201a8"
            ],
            [
             0.3333333333333333,
             "#9c179e"
            ],
            [
             0.4444444444444444,
             "#bd3786"
            ],
            [
             0.5555555555555556,
             "#d8576b"
            ],
            [
             0.6666666666666666,
             "#ed7953"
            ],
            [
             0.7777777777777778,
             "#fb9f3a"
            ],
            [
             0.8888888888888888,
             "#fdca26"
            ],
            [
             1,
             "#f0f921"
            ]
           ],
           "sequentialminus": [
            [
             0,
             "#0d0887"
            ],
            [
             0.1111111111111111,
             "#46039f"
            ],
            [
             0.2222222222222222,
             "#7201a8"
            ],
            [
             0.3333333333333333,
             "#9c179e"
            ],
            [
             0.4444444444444444,
             "#bd3786"
            ],
            [
             0.5555555555555556,
             "#d8576b"
            ],
            [
             0.6666666666666666,
             "#ed7953"
            ],
            [
             0.7777777777777778,
             "#fb9f3a"
            ],
            [
             0.8888888888888888,
             "#fdca26"
            ],
            [
             1,
             "#f0f921"
            ]
           ]
          },
          "colorway": [
           "#636efa",
           "#EF553B",
           "#00cc96",
           "#ab63fa",
           "#FFA15A",
           "#19d3f3",
           "#FF6692",
           "#B6E880",
           "#FF97FF",
           "#FECB52"
          ],
          "font": {
           "color": "#2a3f5f"
          },
          "geo": {
           "bgcolor": "white",
           "lakecolor": "white",
           "landcolor": "#E5ECF6",
           "showlakes": true,
           "showland": true,
           "subunitcolor": "white"
          },
          "hoverlabel": {
           "align": "left"
          },
          "hovermode": "closest",
          "mapbox": {
           "style": "light"
          },
          "paper_bgcolor": "white",
          "plot_bgcolor": "#E5ECF6",
          "polar": {
           "angularaxis": {
            "gridcolor": "white",
            "linecolor": "white",
            "ticks": ""
           },
           "bgcolor": "#E5ECF6",
           "radialaxis": {
            "gridcolor": "white",
            "linecolor": "white",
            "ticks": ""
           }
          },
          "scene": {
           "xaxis": {
            "backgroundcolor": "#E5ECF6",
            "gridcolor": "white",
            "gridwidth": 2,
            "linecolor": "white",
            "showbackground": true,
            "ticks": "",
            "zerolinecolor": "white"
           },
           "yaxis": {
            "backgroundcolor": "#E5ECF6",
            "gridcolor": "white",
            "gridwidth": 2,
            "linecolor": "white",
            "showbackground": true,
            "ticks": "",
            "zerolinecolor": "white"
           },
           "zaxis": {
            "backgroundcolor": "#E5ECF6",
            "gridcolor": "white",
            "gridwidth": 2,
            "linecolor": "white",
            "showbackground": true,
            "ticks": "",
            "zerolinecolor": "white"
           }
          },
          "shapedefaults": {
           "line": {
            "color": "#2a3f5f"
           }
          },
          "ternary": {
           "aaxis": {
            "gridcolor": "white",
            "linecolor": "white",
            "ticks": ""
           },
           "baxis": {
            "gridcolor": "white",
            "linecolor": "white",
            "ticks": ""
           },
           "bgcolor": "#E5ECF6",
           "caxis": {
            "gridcolor": "white",
            "linecolor": "white",
            "ticks": ""
           }
          },
          "title": {
           "x": 0.05
          },
          "xaxis": {
           "automargin": true,
           "gridcolor": "white",
           "linecolor": "white",
           "ticks": "",
           "title": {
            "standoff": 15
           },
           "zerolinecolor": "white",
           "zerolinewidth": 2
          },
          "yaxis": {
           "automargin": true,
           "gridcolor": "white",
           "linecolor": "white",
           "ticks": "",
           "title": {
            "standoff": 15
           },
           "zerolinecolor": "white",
           "zerolinewidth": 2
          }
         }
        },
        "title": {
         "text": "🎵 Artist Collaboration Network"
        },
        "width": 1200
       }
      }
     },
     "metadata": {},
     "output_type": "display_data"
    }
   ],
   "source": [
    "# Visualize Collaboration Network\n",
    "\n",
    "# Compute positions for NetworkX graph with increased spacing\n",
    "pos = nx.spring_layout(G_filtered, seed=42, k=0.3, iterations=100)\n",
    "\n",
    "# Extract node positions\n",
    "node_x = [pos[node][0] for node in G_filtered.nodes()]\n",
    "node_y = [pos[node][1] for node in G_filtered.nodes()]\n",
    "\n",
    "# Create figure\n",
    "fig = go.Figure()\n",
    "\n",
    "# Add edges (collaborations)\n",
    "edge_x, edge_y = [], []\n",
    "for edge in G_filtered.edges():\n",
    "    x0, y0 = pos[edge[0]]\n",
    "    x1, y1 = pos[edge[1]]\n",
    "    edge_x.extend([x0, x1, None])\n",
    "    edge_y.extend([y0, y1, None])\n",
    "\n",
    "fig.add_trace(go.Scatter(\n",
    "    x=edge_x, y=edge_y,\n",
    "    line=dict(width=0.5, color='#888'),\n",
    "    hoverinfo='none',\n",
    "    mode='lines'\n",
    "))\n",
    "\n",
    "# Add nodes (artists, colored by community)\n",
    "community_colors = {community: f\"#{random.randint(0, 0xFFFFFF):06x}\" for community in set(partition.values())}\n",
    "node_colors = [community_colors[partition[node]] for node in G_filtered.nodes()]\n",
    "fig.add_trace(go.Scatter(\n",
    "    x=node_x, y=node_y, mode=\"markers\",\n",
    "    marker=dict(color=node_colors, size=10),\n",
    "    text=[f\"{node}\" for node in G_filtered.nodes()],\n",
    "    hoverinfo=\"text\"\n",
    "))\n",
    "\n",
    "fig.update_layout(\n",
    "    showlegend=False,\n",
    "    hovermode=\"closest\", \n",
    "    title=\"🎵 Artist Collaboration Network\",\n",
    "    width=1200,  # Set the width of the figure\n",
    "    height=800   # Set the height of the figure\n",
    ")\n",
    "fig.show()"
   ]
  }
 ],
 "metadata": {
  "kernelspec": {
   "display_name": "Python 3",
   "language": "python",
   "name": "python3"
  },
  "language_info": {
   "codemirror_mode": {
    "name": "ipython",
    "version": 3
   },
   "file_extension": ".py",
   "mimetype": "text/x-python",
   "name": "python",
   "nbconvert_exporter": "python",
   "pygments_lexer": "ipython3",
   "version": "3.13.1"
  }
 },
 "nbformat": 4,
 "nbformat_minor": 2
}
