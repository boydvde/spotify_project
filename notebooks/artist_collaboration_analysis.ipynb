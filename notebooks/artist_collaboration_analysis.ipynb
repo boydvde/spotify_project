{
 "cells": [
  {
   "cell_type": "markdown",
   "metadata": {},
   "source": [
    "# Import Required Libraries\n",
    "Import the necessary libraries, including sqlite3, random, networkx, pandas, community_louvain, and plotly."
   ]
  },
  {
   "cell_type": "code",
   "execution_count": 60,
   "metadata": {},
   "outputs": [],
   "source": [
    "import sqlite3\n",
    "import random\n",
    "import networkx as nx\n",
    "import pandas as pd\n",
    "import community as community_louvain\n",
    "import plotly.graph_objects as go"
   ]
  },
  {
   "cell_type": "markdown",
   "metadata": {},
   "source": [
    "# Load Data from Database\n",
    "Load data from the SQLite database into a pandas DataFrame using a SQL query. The query selects pairs of artists who have collaborated on tracks, along with the count of their collaborations. The data is filtered based on the popularity of the artists and tracks."
   ]
  },
  {
   "cell_type": "code",
   "execution_count": 61,
   "metadata": {},
   "outputs": [
    {
     "data": {
      "text/html": [
       "<div>\n",
       "<style scoped>\n",
       "    .dataframe tbody tr th:only-of-type {\n",
       "        vertical-align: middle;\n",
       "    }\n",
       "\n",
       "    .dataframe tbody tr th {\n",
       "        vertical-align: top;\n",
       "    }\n",
       "\n",
       "    .dataframe thead th {\n",
       "        text-align: right;\n",
       "    }\n",
       "</style>\n",
       "<table border=\"1\" class=\"dataframe\">\n",
       "  <thead>\n",
       "    <tr style=\"text-align: right;\">\n",
       "      <th></th>\n",
       "      <th>artist_1</th>\n",
       "      <th>artist_2</th>\n",
       "      <th>collaboration_count</th>\n",
       "    </tr>\n",
       "  </thead>\n",
       "  <tbody>\n",
       "    <tr>\n",
       "      <th>0</th>\n",
       "      <td>Metro Boomin</td>\n",
       "      <td>Future</td>\n",
       "      <td>33</td>\n",
       "    </tr>\n",
       "    <tr>\n",
       "      <th>1</th>\n",
       "      <td>Dimitri Vegas</td>\n",
       "      <td>Dimitri Vegas &amp; Like Mike</td>\n",
       "      <td>22</td>\n",
       "    </tr>\n",
       "    <tr>\n",
       "      <th>2</th>\n",
       "      <td>Keinemusik</td>\n",
       "      <td>Adam Port</td>\n",
       "      <td>20</td>\n",
       "    </tr>\n",
       "    <tr>\n",
       "      <th>3</th>\n",
       "      <td>Adam Port</td>\n",
       "      <td>&amp;ME</td>\n",
       "      <td>19</td>\n",
       "    </tr>\n",
       "    <tr>\n",
       "      <th>4</th>\n",
       "      <td>Keinemusik</td>\n",
       "      <td>&amp;ME</td>\n",
       "      <td>18</td>\n",
       "    </tr>\n",
       "  </tbody>\n",
       "</table>\n",
       "</div>"
      ],
      "text/plain": [
       "        artist_1                   artist_2  collaboration_count\n",
       "0   Metro Boomin                     Future                   33\n",
       "1  Dimitri Vegas  Dimitri Vegas & Like Mike                   22\n",
       "2     Keinemusik                  Adam Port                   20\n",
       "3      Adam Port                        &ME                   19\n",
       "4     Keinemusik                        &ME                   18"
      ]
     },
     "execution_count": 61,
     "metadata": {},
     "output_type": "execute_result"
    }
   ],
   "source": [
    "# Load data from the SQLite database into a pandas DataFrame using a SQL query\n",
    "def load(conn, filters = {\"artist_popularity\": 50, \"track_popularity\": 10}):\n",
    "    query = \"\"\"\n",
    "        SELECT \n",
    "            a1.name AS artist_1,\n",
    "            a2.name AS artist_2,\n",
    "            COUNT(*) AS collaboration_count\n",
    "        FROM TrackArtist ta1\n",
    "        JOIN TrackArtist ta2 ON ta1.track_id = ta2.track_id AND ta1.artist_id < ta2.artist_id\n",
    "        JOIN Artist a1 ON ta1.artist_id = a1.id\n",
    "        JOIN Artist a2 ON ta2.artist_id = a2.id\n",
    "        JOIN Track ON ta1.track_id = Track.id\n",
    "        WHERE \n",
    "            a1.name IS NOT NULL \n",
    "            AND a2.name IS NOT NULL\n",
    "            AND Track.popularity > ?\n",
    "            AND a1.popularity > ?\n",
    "        GROUP BY artist_1, artist_2\n",
    "        ORDER BY collaboration_count DESC\n",
    "    \"\"\"\n",
    "    data_frame = pd.read_sql_query(query, conn, params=(filters[\"track_popularity\"], filters[\"artist_popularity\"]))\n",
    "    return data_frame\n",
    "\n",
    "# Establish a connection to the SQLite database\n",
    "conn = sqlite3.connect(\"../db/spotify.sqlite\")\n",
    "\n",
    "# Define the filters to apply to the data\n",
    "filters = {\n",
    "    \"artist_popularity\": 70, # The minimum popularity of an artist\n",
    "    \"track_popularity\": 40 # The minimum popularity of a track\n",
    "}\n",
    "\n",
    "# Load the data into a DataFrame\n",
    "data_frame = load(conn, filters)\n",
    "\n",
    "# Display the first few rows of the DataFrame\n",
    "data_frame.head()"
   ]
  },
  {
   "cell_type": "markdown",
   "metadata": {},
   "source": [
    "# Show tracks\n",
    "List the first 10 tracks of the artist pair with the highest collaboration count."
   ]
  },
  {
   "cell_type": "code",
   "execution_count": 62,
   "metadata": {},
   "outputs": [
    {
     "data": {
      "text/html": [
       "<div>\n",
       "<style scoped>\n",
       "    .dataframe tbody tr th:only-of-type {\n",
       "        vertical-align: middle;\n",
       "    }\n",
       "\n",
       "    .dataframe tbody tr th {\n",
       "        vertical-align: top;\n",
       "    }\n",
       "\n",
       "    .dataframe thead th {\n",
       "        text-align: right;\n",
       "    }\n",
       "</style>\n",
       "<table border=\"1\" class=\"dataframe\">\n",
       "  <thead>\n",
       "    <tr style=\"text-align: right;\">\n",
       "      <th></th>\n",
       "      <th>track_name</th>\n",
       "      <th>track_id</th>\n",
       "    </tr>\n",
       "  </thead>\n",
       "  <tbody>\n",
       "    <tr>\n",
       "      <th>0</th>\n",
       "      <td>All I Know</td>\n",
       "      <td>0NWqNXBJTpXbkI5rPWNy3p</td>\n",
       "    </tr>\n",
       "    <tr>\n",
       "      <th>1</th>\n",
       "      <td>My Darlin' (feat. Future)</td>\n",
       "      <td>7hJ1fEr1nf2e4qsE4bfmcc</td>\n",
       "    </tr>\n",
       "    <tr>\n",
       "      <th>2</th>\n",
       "      <td>Cold (feat. Future)</td>\n",
       "      <td>2NlTOhsAamXOaZciOXbITb</td>\n",
       "    </tr>\n",
       "    <tr>\n",
       "      <th>3</th>\n",
       "      <td>Thrusting (feat. Swae Lee &amp; Future)</td>\n",
       "      <td>4ZrutH1rzpA4v3Bg9nma55</td>\n",
       "    </tr>\n",
       "    <tr>\n",
       "      <th>4</th>\n",
       "      <td>Turn On The Lights again.. (feat. Future &amp; Fre...</td>\n",
       "      <td>4ptnQ0kQnN1U1Ig8TSslj6</td>\n",
       "    </tr>\n",
       "    <tr>\n",
       "      <th>5</th>\n",
       "      <td>Fine Whine (feat. Joe Fox, Future &amp; M.I.A.)</td>\n",
       "      <td>2WxzLbJfPA2vJGxQiKd7Jq</td>\n",
       "    </tr>\n",
       "    <tr>\n",
       "      <th>6</th>\n",
       "      <td>On Time (with John Legend)</td>\n",
       "      <td>0YFqKxV9uNu6LUeYkLOKRS</td>\n",
       "    </tr>\n",
       "    <tr>\n",
       "      <th>7</th>\n",
       "      <td>Superhero (Heroes &amp; Villains) [with Future &amp; C...</td>\n",
       "      <td>0vjeOZ3Ft5jvAi9SBFJm1j</td>\n",
       "    </tr>\n",
       "    <tr>\n",
       "      <th>8</th>\n",
       "      <td>Too Many Nights (feat. Don Toliver &amp; with Future)</td>\n",
       "      <td>2Hh3ETdQKrmSI3QS0hme7g</td>\n",
       "    </tr>\n",
       "    <tr>\n",
       "      <th>9</th>\n",
       "      <td>Raindrops (Insane) [with Travis Scott]</td>\n",
       "      <td>1pacwLXyRO47ka0v6LTIiY</td>\n",
       "    </tr>\n",
       "  </tbody>\n",
       "</table>\n",
       "</div>"
      ],
      "text/plain": [
       "                                          track_name                track_id\n",
       "0                                         All I Know  0NWqNXBJTpXbkI5rPWNy3p\n",
       "1                          My Darlin' (feat. Future)  7hJ1fEr1nf2e4qsE4bfmcc\n",
       "2                                Cold (feat. Future)  2NlTOhsAamXOaZciOXbITb\n",
       "3                Thrusting (feat. Swae Lee & Future)  4ZrutH1rzpA4v3Bg9nma55\n",
       "4  Turn On The Lights again.. (feat. Future & Fre...  4ptnQ0kQnN1U1Ig8TSslj6\n",
       "5        Fine Whine (feat. Joe Fox, Future & M.I.A.)  2WxzLbJfPA2vJGxQiKd7Jq\n",
       "6                         On Time (with John Legend)  0YFqKxV9uNu6LUeYkLOKRS\n",
       "7  Superhero (Heroes & Villains) [with Future & C...  0vjeOZ3Ft5jvAi9SBFJm1j\n",
       "8  Too Many Nights (feat. Don Toliver & with Future)  2Hh3ETdQKrmSI3QS0hme7g\n",
       "9             Raindrops (Insane) [with Travis Scott]  1pacwLXyRO47ka0v6LTIiY"
      ]
     },
     "execution_count": 62,
     "metadata": {},
     "output_type": "execute_result"
    }
   ],
   "source": [
    "# Display the first 10 track names of the top artist pair\n",
    "\n",
    "# Define the specific artist pair\n",
    "artist_1 = data_frame.iloc[0][\"artist_1\"]\n",
    "artist_2 = data_frame.iloc[0][\"artist_2\"]\n",
    "\n",
    "# SQL query to fetch the top 10 tracks of the specific artist pair\n",
    "query = \"\"\"\n",
    "SELECT DISTINCT\n",
    "    Track.name as track_name,\n",
    "    Track.id as track_id\n",
    "FROM Track\n",
    "JOIN TrackArtist ON Track.id = TrackArtist.track_id\n",
    "JOIN Artist ON TrackArtist.artist_id = Artist.id\n",
    "WHERE Artist.name IN (?, ?)\n",
    "AND Track.popularity > ?\n",
    "\"\"\"\n",
    "\n",
    "# Execute the query and load the data into a DataFrame\n",
    "top_tracks_df = pd.read_sql_query(query, conn, params=(artist_1, artist_2, filters[\"track_popularity\"]))\n",
    "\n",
    "# Display the top 10 tracks\n",
    "top_tracks_df.head(10)"
   ]
  },
  {
   "cell_type": "markdown",
   "metadata": {},
   "source": [
    "# Create Collaboration Graph\n",
    "Create a NetworkX graph from the DataFrame, filtering edges based on a minimum number of collaborations."
   ]
  },
  {
   "cell_type": "code",
   "execution_count": 63,
   "metadata": {},
   "outputs": [
    {
     "name": "stdout",
     "output_type": "stream",
     "text": [
      "Number of nodes: 115\n",
      "Number of edges: 121\n"
     ]
    }
   ],
   "source": [
    "# Create NetworkX graph from the DataFrame, filtering edges based on a minimum number of collaborations\n",
    "def create_graph(data_frame: pd.DataFrame, min_collaborations: int = 3) -> nx.Graph:\n",
    "    # Create NetworkX graph\n",
    "    G = nx.Graph()\n",
    "    \n",
    "    # Add edges to the graph\n",
    "    for _, row in data_frame.iterrows():\n",
    "        artist_1, artist_2 = row[\"artist_1\"], row[\"artist_2\"]\n",
    "        weight = row[\"collaboration_count\"]\n",
    "        G.add_edge(artist_1, artist_2, weight=weight)\n",
    "\n",
    "    # Filter out low-weight edges\n",
    "    filtered_edges = [(u, v) for u, v, d in G.edges(data=True) if d[\"weight\"] > min_collaborations]\n",
    "    G_filtered = G.edge_subgraph(filtered_edges).copy()\n",
    "\n",
    "    return G_filtered\n",
    "\n",
    "# Set the minimum number of collaborations\n",
    "min_collaborations = 4\n",
    "\n",
    "# Create the filtered graph\n",
    "G_filtered = create_graph(data_frame, min_collaborations)\n",
    "\n",
    "# Display the number of nodes and edges in the filtered graph\n",
    "print(f\"Number of nodes: {G_filtered.number_of_nodes()}\")\n",
    "print(f\"Number of edges: {G_filtered.number_of_edges()}\")"
   ]
  },
  {
   "cell_type": "markdown",
   "metadata": {},
   "source": [
    "# Calculate Centrality Measures\n",
    "Calculate degree centrality and betweenness centrality for the nodes in the graph."
   ]
  },
  {
   "cell_type": "code",
   "execution_count": 64,
   "metadata": {},
   "outputs": [
    {
     "name": "stdout",
     "output_type": "stream",
     "text": [
      "\n",
      "Top 5 nodes by degree centrality:\n",
      "The Weeknd: 0.10526315789473684\n",
      "A$AP Rocky: 0.09649122807017543\n",
      "Metro Boomin: 0.06140350877192982\n",
      "Justin Bieber: 0.06140350877192982\n",
      "Future: 0.05263157894736842\n",
      "\n",
      "Top 5 nodes by betweenness centrality:\n",
      "The Weeknd: 0.1583863789266677\n",
      "David Guetta: 0.08678776587486416\n",
      "Nicki Minaj: 0.08655488278217668\n",
      "Metro Boomin: 0.08259587020648967\n",
      "Drake: 0.06963204471355379\n"
     ]
    }
   ],
   "source": [
    "# Calculate degree centrality\n",
    "degree_centrality = nx.degree_centrality(G_filtered)\n",
    "\n",
    "# Calculate betweenness centrality\n",
    "betweenness_centrality = nx.betweenness_centrality(G_filtered)\n",
    "\n",
    "# Display the top 5 nodes by degree centrality\n",
    "top_degree_centrality = sorted(degree_centrality.items(), key=lambda x: x[1], reverse=True)[:5]\n",
    "print(\"\\nTop 5 nodes by degree centrality:\")\n",
    "for node, centrality in top_degree_centrality:\n",
    "    print(f\"{node}: {centrality}\")\n",
    "\n",
    "# Display the top 5 nodes by betweenness centrality\n",
    "top_betweenness_centrality = sorted(betweenness_centrality.items(), key=lambda x: x[1], reverse=True)[:5]\n",
    "print(\"\\nTop 5 nodes by betweenness centrality:\")\n",
    "for node, centrality in top_betweenness_centrality:\n",
    "    print(f\"{node}: {centrality}\")"
   ]
  },
  {
   "cell_type": "markdown",
   "metadata": {},
   "source": [
    "# Detect Communities\n",
    "Use the Louvain method to detect communities within the graph and print the number of detected communities."
   ]
  },
  {
   "cell_type": "code",
   "execution_count": 65,
   "metadata": {},
   "outputs": [
    {
     "name": "stdout",
     "output_type": "stream",
     "text": [
      "Detected 24 artist communities.\n"
     ]
    }
   ],
   "source": [
    "# Use the Louvain method to detect communities within the graph\n",
    "partition = community_louvain.best_partition(G_filtered)\n",
    "\n",
    "# Print the number of detected communities\n",
    "num_communities = len(set(partition.values()))\n",
    "print(f\"Detected {num_communities} artist communities.\")"
   ]
  },
  {
   "cell_type": "markdown",
   "metadata": {},
   "source": [
    "# Visualize Collaboration Network\n",
    "Visualize the collaboration network using Plotly, with nodes colored by community."
   ]
  },
  {
   "cell_type": "code",
   "execution_count": 66,
   "metadata": {},
   "outputs": [
    {
     "data": {
      "application/vnd.plotly.v1+json": {
       "config": {
        "plotlyServerURL": "https://plot.ly"
       },
       "data": [
        {
         "hoverinfo": "none",
         "line": {
          "color": "#888",
          "width": 0.5
         },
         "mode": "lines",
         "type": "scatter",
         "x": [
          0.862543512611173,
          0.8445078609178617,
          null,
          0.862543512611173,
          0.9081815289378665,
          null,
          0.862543512611173,
          0.8666542294515455,
          null,
          0.862543512611173,
          0.9011036656525967,
          null,
          0.17620531677923706,
          0.09914151618851172,
          null,
          -0.13470004851939812,
          -0.10189906357171123,
          null,
          -0.012774263729380165,
          -0.0027482236126247332,
          null,
          -0.012774263729380165,
          -0.003874155172852259,
          null,
          -0.012774263729380165,
          -0.03447595445607742,
          null,
          -0.5084550509475347,
          -0.4651747545377057,
          null,
          0.22258386796118315,
          0.21049884152668194,
          null,
          0.04413392966804056,
          -0.010397553592502874,
          null,
          0.04413392966804056,
          0.014815410241988541,
          null,
          0.04413392966804056,
          0.11706047074262485,
          null,
          -0.31642945161357294,
          -0.3367909389921257,
          null,
          -0.31642945161357294,
          -0.2571109725075919,
          null,
          -0.31642945161357294,
          -0.332571768640216,
          null,
          -0.42928566827369863,
          -0.4232189728947783,
          null,
          -0.20688106395458397,
          -0.10189906357171123,
          null,
          -0.20688106395458397,
          -0.332571768640216,
          null,
          -0.13906414018779092,
          -0.1423750192249472,
          null,
          -0.13906414018779092,
          -0.10189906357171123,
          null,
          -0.3504926130266638,
          -0.3252196703055441,
          null,
          0.4650039502681944,
          0.48927184268268725,
          null,
          0.4650039502681944,
          0.5131377285471692,
          null,
          0.4650039502681944,
          0.497088239306314,
          null,
          0.012358640576971475,
          0.012809946901355736,
          null,
          0.012358640576971475,
          0.04615967461225257,
          null,
          0.012358640576971475,
          0.0032685511351198716,
          null,
          -0.5049733421172169,
          -0.562275306546885,
          null,
          -0.5049733421172169,
          -0.4284666844583202,
          null,
          0.8666542294515455,
          0.9081815289378665,
          null,
          0.48927184268268725,
          0.5131377285471692,
          null,
          0.48927184268268725,
          0.497088239306314,
          null,
          0.48927184268268725,
          0.4953654901731302,
          null,
          -0.919829989885453,
          -0.9211839206056655,
          null,
          -0.919829989885453,
          -0.9591311955218688,
          null,
          0.5405928339553407,
          0.4955216990096697,
          null,
          0.14263332507650278,
          0.09914151618851172,
          null,
          -0.2571109725075919,
          -0.3367909389921257,
          null,
          -0.2571109725075919,
          -0.332571768640216,
          null,
          -0.2571109725075919,
          -0.10189906357171123,
          null,
          -0.0027482236126247332,
          -0.02026446174939554,
          null,
          -0.0027482236126247332,
          -0.05018966110133357,
          null,
          -0.0027482236126247332,
          0.04807818643160601,
          null,
          -0.0027482236126247332,
          -0.10189906357171123,
          null,
          -0.0027482236126247332,
          -0.010397553592502874,
          null,
          -0.0027482236126247332,
          0.09914151618851172,
          null,
          0.0660721575438371,
          0.09914151618851172,
          null,
          0.0660721575438371,
          0.020502189739646647,
          null,
          0.6995631194641231,
          0.7410752004464626,
          null,
          0.6995631194641231,
          0.6740296366301743,
          null,
          0.6995631194641231,
          0.672494922685407,
          null,
          0.09914151618851172,
          0.1346663079928582,
          null,
          0.09914151618851172,
          0.020502189739646647,
          null,
          0.09914151618851172,
          0.1513018081489284,
          null,
          0.09914151618851172,
          0.118808085622665,
          null,
          0.09914151618851172,
          0.15987614575242504,
          null,
          0.09914151618851172,
          0.10773438713503877,
          null,
          0.09914151618851172,
          0.1760599299768338,
          null,
          -0.7269884511131378,
          -0.7564301266503918,
          null,
          -0.4899731425353383,
          -0.5060416592996025,
          null,
          -0.4899731425353383,
          -0.49276307672943165,
          null,
          -0.4899731425353383,
          -0.4651747545377057,
          null,
          -0.02026446174939554,
          -0.10189906357171123,
          null,
          -0.02026446174939554,
          0.020648224081823638,
          null,
          -0.02026446174939554,
          0.04807818643160601,
          null,
          -0.02026446174939554,
          -0.010397553592502874,
          null,
          -0.02026446174939554,
          -0.02754131072257356,
          null,
          -0.8327895549771336,
          -0.7819424431067266,
          null,
          -0.1423750192249472,
          -0.10189906357171123,
          null,
          0.4881969961420654,
          0.4953654901731302,
          null,
          -0.22708593305275943,
          -0.17230455655849938,
          null,
          0.7787039847299624,
          0.7859854765415779,
          null,
          -0.6701170617772104,
          -0.6330131919336658,
          null,
          0.16403513232566805,
          0.11706047074262485,
          null,
          0.8695777964662295,
          0.8395326912689917,
          null,
          -0.4651747545377057,
          -0.569921632743004,
          null,
          -0.4651747545377057,
          -0.46023776400667393,
          null,
          -0.4651747545377057,
          -0.5207641941972332,
          null,
          -0.4651747545377057,
          -0.332571768640216,
          null,
          0.06460216062329015,
          0.03719369239413313,
          null,
          1,
          0.9853756511480191,
          null,
          -0.7564301266503918,
          -0.7431911723769891,
          null,
          -0.10189906357171123,
          -0.05018966110133357,
          null,
          -0.10189906357171123,
          -0.17230455655849938,
          null,
          -0.10189906357171123,
          -0.13716122554265445,
          null,
          -0.10189906357171123,
          0.020502189739646647,
          null,
          -0.10189906357171123,
          -0.010397553592502874,
          null,
          0.9561545998341715,
          0.9371727721158223,
          null,
          0.9561545998341715,
          0.9319997133567239,
          null,
          0.6740296366301743,
          0.672494922685407,
          null,
          -0.6330131919336658,
          -0.569921632743004,
          null,
          -0.6330131919336658,
          -0.6137653275606972,
          null,
          -0.6330131919336658,
          -0.6332746333928752,
          null,
          -0.3252196703055441,
          -0.33615980172047466,
          null,
          0.9011036656525967,
          0.9081815289378665,
          null,
          -0.5584732671295304,
          -0.5875932641112104,
          null,
          0.12786003630128226,
          0.11706047074262485,
          null,
          0.5131377285471692,
          0.4953654901731302,
          null,
          -0.16503136073700575,
          -0.13716122554265445,
          null,
          -0.15951995965261795,
          -0.16410348623900337,
          null,
          -0.034767146050727976,
          -0.02754131072257356,
          null,
          -0.034767146050727976,
          -0.04006439351508474,
          null,
          0.03719369239413313,
          0.009869181002050828,
          null,
          -0.18732732722884568,
          -0.19416836008530577,
          null,
          0.014815410241988541,
          -0.010397553592502874,
          null,
          0.1800784276954434,
          0.11706047074262485,
          null,
          -0.19985578456555625,
          -0.19416836008530577,
          null,
          0.9319997133567239,
          0.9371727721158223,
          null,
          -0.7168256401640791,
          -0.7819424431067266,
          null,
          0.11706047074262485,
          0.13666576930192426,
          null,
          0.11706047074262485,
          0.04807818643160601,
          null,
          0.11706047074262485,
          0.17489370340026925,
          null,
          -0.02754131072257356,
          -0.010397553592502874,
          null,
          -0.332571768640216,
          -0.3367909389921257,
          null,
          0.4953654901731302,
          0.497088239306314,
          null,
          -0.6137653275606972,
          -0.6332746333928752,
          null,
          -0.6137653275606972,
          -0.569921632743004,
          null,
          -0.4284666844583202,
          -0.3367909389921257,
          null,
          -0.569921632743004,
          -0.6332746333928752,
          null
         ],
         "y": [
          0.30360227001757256,
          0.3330884608105044,
          null,
          0.30360227001757256,
          0.30425344420257233,
          null,
          0.30360227001757256,
          0.2744558174703333,
          null,
          0.30360227001757256,
          0.279620334879602,
          null,
          -0.03013778666122199,
          -0.048483316484436594,
          null,
          -0.1908025673232608,
          -0.1440441902724624,
          null,
          -0.027282176964276067,
          -0.13180162508007046,
          null,
          -0.027282176964276067,
          0.03656744860611491,
          null,
          -0.027282176964276067,
          0.03324861877364208,
          null,
          -0.39522068243500924,
          -0.3776943271646942,
          null,
          0.8797114895898248,
          0.8283648158682372,
          null,
          -0.2565256622532048,
          -0.20835327591735092,
          null,
          -0.2565256622532048,
          -0.25271147632717567,
          null,
          -0.2565256622532048,
          -0.30763645992210825,
          null,
          -0.21690657978614747,
          -0.1884805261948535,
          null,
          -0.21690657978614747,
          -0.19120926463605573,
          null,
          -0.21690657978614747,
          -0.25937904903677783,
          null,
          0.7973747775383948,
          0.7673126122067101,
          null,
          -0.19671580541528594,
          -0.1440441902724624,
          null,
          -0.19671580541528594,
          -0.25937904903677783,
          null,
          -0.1191006402859094,
          -0.14439364858418027,
          null,
          -0.1191006402859094,
          -0.1440441902724624,
          null,
          -0.8455143743411312,
          -0.8625304707960595,
          null,
          0.7935635515672085,
          0.7891295132814349,
          null,
          0.7935635515672085,
          0.7867687153188911,
          null,
          0.7935635515672085,
          0.7732551373706616,
          null,
          0.8075540897973116,
          0.8589836004700833,
          null,
          0.8075540897973116,
          0.8038029663243937,
          null,
          0.8075540897973116,
          0.7418840476588688,
          null,
          -0.10404585215272345,
          -0.07764881472225663,
          null,
          -0.10404585215272345,
          -0.14211146545983028,
          null,
          0.2744558174703333,
          0.30425344420257233,
          null,
          0.7891295132814349,
          0.7867687153188911,
          null,
          0.7891295132814349,
          0.7732551373706616,
          null,
          0.7891295132814349,
          0.7340605504306356,
          null,
          -0.05027895636122786,
          -0.012472755685599144,
          null,
          -0.05027895636122786,
          -0.0671056818603465,
          null,
          0.7165467650883246,
          0.7395532690777653,
          null,
          0.013661536667917189,
          -0.048483316484436594,
          null,
          -0.19120926463605573,
          -0.1884805261948535,
          null,
          -0.19120926463605573,
          -0.25937904903677783,
          null,
          -0.19120926463605573,
          -0.1440441902724624,
          null,
          -0.13180162508007046,
          -0.16727598435524124,
          null,
          -0.13180162508007046,
          -0.12565612181124067,
          null,
          -0.13180162508007046,
          -0.21141247705845087,
          null,
          -0.13180162508007046,
          -0.1440441902724624,
          null,
          -0.13180162508007046,
          -0.20835327591735092,
          null,
          -0.13180162508007046,
          -0.048483316484436594,
          null,
          -0.056079648015711435,
          -0.048483316484436594,
          null,
          -0.056079648015711435,
          -0.08056031804046947,
          null,
          -0.6096309108084582,
          -0.6161710197942482,
          null,
          -0.6096309108084582,
          -0.6220504610662733,
          null,
          -0.6096309108084582,
          -0.6442471554907809,
          null,
          -0.048483316484436594,
          -0.06530521943895275,
          null,
          -0.048483316484436594,
          -0.08056031804046947,
          null,
          -0.048483316484436594,
          -0.039430366886335465,
          null,
          -0.048483316484436594,
          0.0015709255749838894,
          null,
          -0.048483316484436594,
          -0.0064563758428519726,
          null,
          -0.048483316484436594,
          0.028473644528611803,
          null,
          -0.048483316484436594,
          -0.06899457255262982,
          null,
          0.556264702244431,
          0.5516965729337693,
          null,
          -0.4736515930912421,
          -0.4982238783031405,
          null,
          -0.4736515930912421,
          -0.5227966597775471,
          null,
          -0.4736515930912421,
          -0.3776943271646942,
          null,
          -0.16727598435524124,
          -0.1440441902724624,
          null,
          -0.16727598435524124,
          -0.1723409268851041,
          null,
          -0.16727598435524124,
          -0.21141247705845087,
          null,
          -0.16727598435524124,
          -0.20835327591735092,
          null,
          -0.16727598435524124,
          -0.2539562553116832,
          null,
          -0.2828937456004816,
          -0.26904230754194136,
          null,
          -0.14439364858418027,
          -0.1440441902724624,
          null,
          0.6992397114649942,
          0.7340605504306356,
          null,
          -0.05144847692606779,
          -0.09326194010741296,
          null,
          0.5782430824172274,
          0.5520372505346064,
          null,
          -0.5402842014758966,
          -0.5024199432873466,
          null,
          -0.37462956488592447,
          -0.30763645992210825,
          null,
          -0.4228775444288653,
          -0.4113056613500875,
          null,
          -0.3776943271646942,
          -0.4474225819915695,
          null,
          -0.3776943271646942,
          -0.42014159554177277,
          null,
          -0.3776943271646942,
          -0.36153961451821637,
          null,
          -0.3776943271646942,
          -0.25937904903677783,
          null,
          -0.9500346607778956,
          -0.9234065410789736,
          null,
          0.020396589186260975,
          0.0485137407340853,
          null,
          0.5516965729337693,
          0.5236079610433202,
          null,
          -0.1440441902724624,
          -0.12565612181124067,
          null,
          -0.1440441902724624,
          -0.09326194010741296,
          null,
          -0.1440441902724624,
          -0.06509602603993314,
          null,
          -0.1440441902724624,
          -0.08056031804046947,
          null,
          -0.1440441902724624,
          -0.20835327591735092,
          null,
          -0.17472535871684466,
          -0.18414272270960153,
          null,
          -0.17472535871684466,
          -0.16509860258976494,
          null,
          -0.6220504610662733,
          -0.6442471554907809,
          null,
          -0.5024199432873466,
          -0.4474225819915695,
          null,
          -0.5024199432873466,
          -0.4877612014346089,
          null,
          -0.5024199432873466,
          -0.47079845893799144,
          null,
          -0.8625304707960595,
          -0.9181143996664423,
          null,
          0.279620334879602,
          0.30425344420257233,
          null,
          0.7398337224809556,
          0.7345179887391929,
          null,
          -0.3817652120875811,
          -0.30763645992210825,
          null,
          0.7867687153188911,
          0.7340605504306356,
          null,
          -0.012321220589720414,
          -0.06509602603993314,
          null,
          0.8593896004806776,
          0.8856500600964534,
          null,
          -0.3169414522123938,
          -0.2539562553116832,
          null,
          -0.3169414522123938,
          -0.38482539202686744,
          null,
          -0.9234065410789736,
          -0.9290844484907873,
          null,
          0.9541787382406968,
          0.9072993008481353,
          null,
          -0.25271147632717567,
          -0.20835327591735092,
          null,
          -0.31687443181511493,
          -0.30763645992210825,
          null,
          0.8533313508691455,
          0.9072993008481353,
          null,
          -0.16509860258976494,
          -0.18414272270960153,
          null,
          -0.2581531876240128,
          -0.26904230754194136,
          null,
          -0.30763645992210825,
          -0.34613397103186,
          null,
          -0.30763645992210825,
          -0.21141247705845087,
          null,
          -0.30763645992210825,
          -0.34523693329455696,
          null,
          -0.2539562553116832,
          -0.20835327591735092,
          null,
          -0.25937904903677783,
          -0.1884805261948535,
          null,
          0.7340605504306356,
          0.7732551373706616,
          null,
          -0.4877612014346089,
          -0.47079845893799144,
          null,
          -0.4877612014346089,
          -0.4474225819915695,
          null,
          -0.14211146545983028,
          -0.1884805261948535,
          null,
          -0.4474225819915695,
          -0.47079845893799144,
          null
         ]
        },
        {
         "hoverinfo": "text",
         "marker": {
          "color": [
           "#895ce0",
           "#0cba19",
           "#cc7199",
           "#cc7199",
           "#bcaad1",
           "#1495dc",
           "#a85e5c",
           "#f3dc0a",
           "#c6010c",
           "#cc7199",
           "#cc7199",
           "#90817d",
           "#fab3db",
           "#accecf",
           "#f3dc0a",
           "#895ce0",
           "#cc7199",
           "#fab3db",
           "#097d79",
           "#8216d2",
           "#0cba19",
           "#f3dc0a",
           "#8216d2",
           "#cc7199",
           "#0cba19",
           "#98942f",
           "#0cba19",
           "#61fd63",
           "#accecf",
           "#bcaad1",
           "#cc7199",
           "#0cba19",
           "#097d79",
           "#dae892",
           "#cc7199",
           "#fab3db",
           "#cc7199",
           "#2a0933",
           "#bcaad1",
           "#a85e5c",
           "#53ae05",
           "#bcaad1",
           "#3357bf",
           "#2a0933",
           "#15a396",
           "#61fd63",
           "#cc7199",
           "#c5e9a6",
           "#98942f",
           "#bcaad1",
           "#0cba19",
           "#90817d",
           "#895ce0",
           "#845f66",
           "#98942f",
           "#a85e5c",
           "#fab3db",
           "#cc7199",
           "#bcaad1",
           "#e01cf8",
           "#bcaad1",
           "#a85e5c",
           "#61fd63",
           "#accecf",
           "#f3dc0a",
           "#53ae05",
           "#0cba19",
           "#3357bf",
           "#cc7199",
           "#6422da",
           "#0cba19",
           "#a85e5c",
           "#0cba19",
           "#a85e5c",
           "#0cba19",
           "#a85e5c",
           "#6422da",
           "#1495dc",
           "#c5e9a6",
           "#845f66",
           "#dae892",
           "#a85e5c",
           "#e01cf8",
           "#cc7199",
           "#097d79",
           "#0cba19",
           "#a85e5c",
           "#f3dc0a",
           "#98942f",
           "#a85e5c",
           "#cc7199",
           "#6422da",
           "#cc7199",
           "#15a396",
           "#cc7199",
           "#fab3db",
           "#accecf",
           "#a85e5c",
           "#bcaad1",
           "#895ce0",
           "#dae892",
           "#bcaad1",
           "#90817d",
           "#f3dc0a",
           "#bcaad1",
           "#f3dc0a",
           "#cc7199",
           "#c5e9a6",
           "#bcaad1",
           "#895ce0",
           "#c6010c",
           "#3357bf",
           "#bcaad1",
           "#a85e5c",
           "#fab3db"
          ],
          "size": 10
         },
         "mode": "markers",
         "text": [
          "Lady Gaga",
          "Juicy J",
          "Swedish House Mafia",
          "Swae Lee",
          "Bebe Rexha",
          "Charli xcx",
          "Quavo",
          "Chris Brown",
          "A7S",
          "Ariana Grande",
          "JENNIE",
          "League of Legends",
          "Troye Sivan",
          "Kygo",
          "JAY-Z",
          "Harold Faltermeyer",
          "Slim Jxmmi",
          "Kid Cudi",
          "Tainy",
          "Amy Winehouse",
          "Tyler, The Creator",
          "Drake",
          "Jools Holland",
          "Metro Boomin",
          "A$AP Mob",
          "RAYE",
          "A$AP Rocky",
          "Macklemore & Ryan Lewis",
          "OneRepublic",
          "Dimitri Vegas",
          "Future",
          "A$AP NAST",
          "Bad Bunny",
          "Ed Sheeran",
          "Lily-Rose Depp",
          "Anna Kendrick",
          "Rob Grant",
          "AXMO",
          "Skrillex",
          "DJ Snake",
          "Wiz Khalifa",
          "David Guetta",
          "Sam Smith",
          "W&W",
          "Kane Brown",
          "Macklemore",
          "The Weeknd",
          "Keinemusik",
          "D-Block Europe",
          "Diplo",
          "A$AP ANT",
          "Arcane",
          "Lorne Balfe",
          "Juice WRLD",
          "cassö",
          "benny blanco",
          "Daveed Diggs",
          "Pharrell Williams",
          "Like Mike",
          "Florence + The Machine",
          "Ava Max",
          "Gunna",
          "Ryan Lewis",
          "Zak Abel",
          "Beyoncé",
          "Ty Dolla $ign",
          "Skepta",
          "Calvin Harris",
          "Lil Uzi Vert",
          "Olivia Rodrigo",
          "Playboi Carti",
          "Huncho Jack",
          "A$AP Ferg",
          "NAV",
          "ScHoolboy Q",
          "USHER",
          "Wish - Cast",
          "Caroline Polachek",
          "&ME",
          "Trippie Redd",
          "Shawn Mendes",
          "Justin Bieber",
          "Jules Buckley",
          "Don Toliver",
          "Rauw Alejandro",
          "Joe Fox",
          "Young Thug",
          "Nicki Minaj",
          "The Heritage Orchestra",
          "Ludacris",
          "Lana Del Rey",
          "Disney",
          "Daft Punk",
          "Marshmello",
          "21 Savage",
          "Justin Timberlake",
          "Sandro Cavazza",
          "Chance the Rapper",
          "Martin Garrix",
          "Hans Zimmer",
          "Camila Cabello",
          "LSD",
          "Imagine Dragons",
          "Rick Ross",
          "Sia",
          "Lil Wayne",
          "Rae Sremmurd",
          "Adam Port",
          "Dimitri Vegas & Like Mike",
          "Bradley Cooper",
          "Topic",
          "Ellie Goulding",
          "Labrinth",
          "Travis Scott",
          "Eric Andre"
         ],
         "type": "scatter",
         "x": [
          0.862543512611173,
          0.17620531677923706,
          -0.13470004851939812,
          -0.012774263729380165,
          -0.5084550509475347,
          0.22258386796118315,
          0.04413392966804056,
          -0.31642945161357294,
          -0.42928566827369863,
          -0.20688106395458397,
          -0.13906414018779092,
          -0.3504926130266638,
          0.4650039502681944,
          0.012358640576971475,
          -0.5049733421172169,
          0.8666542294515455,
          -0.03447595445607742,
          0.48927184268268725,
          -0.919829989885453,
          0.5405928339553407,
          0.14263332507650278,
          -0.2571109725075919,
          0.4955216990096697,
          -0.0027482236126247332,
          0.0660721575438371,
          0.6995631194641231,
          0.09914151618851172,
          -0.7269884511131378,
          0.0032685511351198716,
          -0.4899731425353383,
          -0.02026446174939554,
          0.1513018081489284,
          -0.9211839206056655,
          -0.8327895549771336,
          -0.1423750192249472,
          0.4881969961420654,
          -0.22708593305275943,
          0.7787039847299624,
          -0.6701170617772104,
          0.16403513232566805,
          0.8695777964662295,
          -0.4651747545377057,
          0.06460216062329015,
          0.7859854765415779,
          1,
          -0.7564301266503918,
          -0.10189906357171123,
          0.9561545998341715,
          0.6740296366301743,
          -0.6330131919336658,
          0.10773438713503877,
          -0.3252196703055441,
          0.9011036656525967,
          -0.5584732671295304,
          0.672494922685407,
          0.12786003630128226,
          0.5131377285471692,
          -0.16503136073700575,
          -0.49276307672943165,
          -0.15951995965261795,
          -0.46023776400667393,
          -0.034767146050727976,
          -0.7431911723769891,
          0.012809946901355736,
          -0.562275306546885,
          0.8395326912689917,
          0.15987614575242504,
          0.03719369239413313,
          0.020648224081823638,
          -0.18732732722884568,
          0.020502189739646647,
          0.014815410241988541,
          0.1346663079928582,
          -0.04006439351508474,
          0.118808085622665,
          0.1800784276954434,
          -0.19985578456555625,
          0.21049884152668194,
          0.9319997133567239,
          -0.5875932641112104,
          -0.7168256401640791,
          0.11706047074262485,
          -0.16410348623900337,
          0.04807818643160601,
          -0.9591311955218688,
          0.1760599299768338,
          -0.02754131072257356,
          -0.332571768640216,
          0.7410752004464626,
          0.17489370340026925,
          -0.17230455655849938,
          -0.19416836008530577,
          -0.13716122554265445,
          0.9853756511480191,
          -0.05018966110133357,
          0.4953654901731302,
          0.04615967461225257,
          0.13666576930192426,
          -0.5207641941972332,
          0.9081815289378665,
          -0.7819424431067266,
          -0.6137653275606972,
          -0.33615980172047466,
          -0.4284666844583202,
          -0.569921632743004,
          -0.3367909389921257,
          -0.003874155172852259,
          0.9371727721158223,
          -0.5060416592996025,
          0.8445078609178617,
          -0.4232189728947783,
          0.009869181002050828,
          -0.6332746333928752,
          -0.010397553592502874,
          0.497088239306314
         ],
         "y": [
          0.30360227001757256,
          -0.03013778666122199,
          -0.1908025673232608,
          -0.027282176964276067,
          -0.39522068243500924,
          0.8797114895898248,
          -0.2565256622532048,
          -0.21690657978614747,
          0.7973747775383948,
          -0.19671580541528594,
          -0.1191006402859094,
          -0.8455143743411312,
          0.7935635515672085,
          0.8075540897973116,
          -0.10404585215272345,
          0.2744558174703333,
          0.03324861877364208,
          0.7891295132814349,
          -0.05027895636122786,
          0.7165467650883246,
          0.013661536667917189,
          -0.19120926463605573,
          0.7395532690777653,
          -0.13180162508007046,
          -0.056079648015711435,
          -0.6096309108084582,
          -0.048483316484436594,
          0.556264702244431,
          0.7418840476588688,
          -0.4736515930912421,
          -0.16727598435524124,
          -0.039430366886335465,
          -0.012472755685599144,
          -0.2828937456004816,
          -0.14439364858418027,
          0.6992397114649942,
          -0.05144847692606779,
          0.5782430824172274,
          -0.5402842014758966,
          -0.37462956488592447,
          -0.4228775444288653,
          -0.3776943271646942,
          -0.9500346607778956,
          0.5520372505346064,
          0.020396589186260975,
          0.5516965729337693,
          -0.1440441902724624,
          -0.17472535871684466,
          -0.6220504610662733,
          -0.5024199432873466,
          0.028473644528611803,
          -0.8625304707960595,
          0.279620334879602,
          0.7398337224809556,
          -0.6442471554907809,
          -0.3817652120875811,
          0.7867687153188911,
          -0.012321220589720414,
          -0.5227966597775471,
          0.8593896004806776,
          -0.42014159554177277,
          -0.3169414522123938,
          0.5236079610433202,
          0.8589836004700833,
          -0.07764881472225663,
          -0.4113056613500875,
          -0.0064563758428519726,
          -0.9234065410789736,
          -0.1723409268851041,
          0.9541787382406968,
          -0.08056031804046947,
          -0.25271147632717567,
          -0.06530521943895275,
          -0.38482539202686744,
          0.0015709255749838894,
          -0.31687443181511493,
          0.8533313508691455,
          0.8283648158682372,
          -0.16509860258976494,
          0.7345179887391929,
          -0.2581531876240128,
          -0.30763645992210825,
          0.8856500600964534,
          -0.21141247705845087,
          -0.0671056818603465,
          -0.06899457255262982,
          -0.2539562553116832,
          -0.25937904903677783,
          -0.6161710197942482,
          -0.34523693329455696,
          -0.09326194010741296,
          0.9072993008481353,
          -0.06509602603993314,
          0.0485137407340853,
          -0.12565612181124067,
          0.7340605504306356,
          0.8038029663243937,
          -0.34613397103186,
          -0.36153961451821637,
          0.30425344420257233,
          -0.26904230754194136,
          -0.4877612014346089,
          -0.9181143996664423,
          -0.14211146545983028,
          -0.4474225819915695,
          -0.1884805261948535,
          0.03656744860611491,
          -0.18414272270960153,
          -0.4982238783031405,
          0.3330884608105044,
          0.7673126122067101,
          -0.9290844484907873,
          -0.47079845893799144,
          -0.20835327591735092,
          0.7732551373706616
         ]
        }
       ],
       "layout": {
        "height": 800,
        "hovermode": "closest",
        "showlegend": false,
        "template": {
         "data": {
          "bar": [
           {
            "error_x": {
             "color": "#2a3f5f"
            },
            "error_y": {
             "color": "#2a3f5f"
            },
            "marker": {
             "line": {
              "color": "#E5ECF6",
              "width": 0.5
             },
             "pattern": {
              "fillmode": "overlay",
              "size": 10,
              "solidity": 0.2
             }
            },
            "type": "bar"
           }
          ],
          "barpolar": [
           {
            "marker": {
             "line": {
              "color": "#E5ECF6",
              "width": 0.5
             },
             "pattern": {
              "fillmode": "overlay",
              "size": 10,
              "solidity": 0.2
             }
            },
            "type": "barpolar"
           }
          ],
          "carpet": [
           {
            "aaxis": {
             "endlinecolor": "#2a3f5f",
             "gridcolor": "white",
             "linecolor": "white",
             "minorgridcolor": "white",
             "startlinecolor": "#2a3f5f"
            },
            "baxis": {
             "endlinecolor": "#2a3f5f",
             "gridcolor": "white",
             "linecolor": "white",
             "minorgridcolor": "white",
             "startlinecolor": "#2a3f5f"
            },
            "type": "carpet"
           }
          ],
          "choropleth": [
           {
            "colorbar": {
             "outlinewidth": 0,
             "ticks": ""
            },
            "type": "choropleth"
           }
          ],
          "contour": [
           {
            "colorbar": {
             "outlinewidth": 0,
             "ticks": ""
            },
            "colorscale": [
             [
              0,
              "#0d0887"
             ],
             [
              0.1111111111111111,
              "#46039f"
             ],
             [
              0.2222222222222222,
              "#7201a8"
             ],
             [
              0.3333333333333333,
              "#9c179e"
             ],
             [
              0.4444444444444444,
              "#bd3786"
             ],
             [
              0.5555555555555556,
              "#d8576b"
             ],
             [
              0.6666666666666666,
              "#ed7953"
             ],
             [
              0.7777777777777778,
              "#fb9f3a"
             ],
             [
              0.8888888888888888,
              "#fdca26"
             ],
             [
              1,
              "#f0f921"
             ]
            ],
            "type": "contour"
           }
          ],
          "contourcarpet": [
           {
            "colorbar": {
             "outlinewidth": 0,
             "ticks": ""
            },
            "type": "contourcarpet"
           }
          ],
          "heatmap": [
           {
            "colorbar": {
             "outlinewidth": 0,
             "ticks": ""
            },
            "colorscale": [
             [
              0,
              "#0d0887"
             ],
             [
              0.1111111111111111,
              "#46039f"
             ],
             [
              0.2222222222222222,
              "#7201a8"
             ],
             [
              0.3333333333333333,
              "#9c179e"
             ],
             [
              0.4444444444444444,
              "#bd3786"
             ],
             [
              0.5555555555555556,
              "#d8576b"
             ],
             [
              0.6666666666666666,
              "#ed7953"
             ],
             [
              0.7777777777777778,
              "#fb9f3a"
             ],
             [
              0.8888888888888888,
              "#fdca26"
             ],
             [
              1,
              "#f0f921"
             ]
            ],
            "type": "heatmap"
           }
          ],
          "histogram": [
           {
            "marker": {
             "pattern": {
              "fillmode": "overlay",
              "size": 10,
              "solidity": 0.2
             }
            },
            "type": "histogram"
           }
          ],
          "histogram2d": [
           {
            "colorbar": {
             "outlinewidth": 0,
             "ticks": ""
            },
            "colorscale": [
             [
              0,
              "#0d0887"
             ],
             [
              0.1111111111111111,
              "#46039f"
             ],
             [
              0.2222222222222222,
              "#7201a8"
             ],
             [
              0.3333333333333333,
              "#9c179e"
             ],
             [
              0.4444444444444444,
              "#bd3786"
             ],
             [
              0.5555555555555556,
              "#d8576b"
             ],
             [
              0.6666666666666666,
              "#ed7953"
             ],
             [
              0.7777777777777778,
              "#fb9f3a"
             ],
             [
              0.8888888888888888,
              "#fdca26"
             ],
             [
              1,
              "#f0f921"
             ]
            ],
            "type": "histogram2d"
           }
          ],
          "histogram2dcontour": [
           {
            "colorbar": {
             "outlinewidth": 0,
             "ticks": ""
            },
            "colorscale": [
             [
              0,
              "#0d0887"
             ],
             [
              0.1111111111111111,
              "#46039f"
             ],
             [
              0.2222222222222222,
              "#7201a8"
             ],
             [
              0.3333333333333333,
              "#9c179e"
             ],
             [
              0.4444444444444444,
              "#bd3786"
             ],
             [
              0.5555555555555556,
              "#d8576b"
             ],
             [
              0.6666666666666666,
              "#ed7953"
             ],
             [
              0.7777777777777778,
              "#fb9f3a"
             ],
             [
              0.8888888888888888,
              "#fdca26"
             ],
             [
              1,
              "#f0f921"
             ]
            ],
            "type": "histogram2dcontour"
           }
          ],
          "mesh3d": [
           {
            "colorbar": {
             "outlinewidth": 0,
             "ticks": ""
            },
            "type": "mesh3d"
           }
          ],
          "parcoords": [
           {
            "line": {
             "colorbar": {
              "outlinewidth": 0,
              "ticks": ""
             }
            },
            "type": "parcoords"
           }
          ],
          "pie": [
           {
            "automargin": true,
            "type": "pie"
           }
          ],
          "scatter": [
           {
            "fillpattern": {
             "fillmode": "overlay",
             "size": 10,
             "solidity": 0.2
            },
            "type": "scatter"
           }
          ],
          "scatter3d": [
           {
            "line": {
             "colorbar": {
              "outlinewidth": 0,
              "ticks": ""
             }
            },
            "marker": {
             "colorbar": {
              "outlinewidth": 0,
              "ticks": ""
             }
            },
            "type": "scatter3d"
           }
          ],
          "scattercarpet": [
           {
            "marker": {
             "colorbar": {
              "outlinewidth": 0,
              "ticks": ""
             }
            },
            "type": "scattercarpet"
           }
          ],
          "scattergeo": [
           {
            "marker": {
             "colorbar": {
              "outlinewidth": 0,
              "ticks": ""
             }
            },
            "type": "scattergeo"
           }
          ],
          "scattergl": [
           {
            "marker": {
             "colorbar": {
              "outlinewidth": 0,
              "ticks": ""
             }
            },
            "type": "scattergl"
           }
          ],
          "scattermap": [
           {
            "marker": {
             "colorbar": {
              "outlinewidth": 0,
              "ticks": ""
             }
            },
            "type": "scattermap"
           }
          ],
          "scattermapbox": [
           {
            "marker": {
             "colorbar": {
              "outlinewidth": 0,
              "ticks": ""
             }
            },
            "type": "scattermapbox"
           }
          ],
          "scatterpolar": [
           {
            "marker": {
             "colorbar": {
              "outlinewidth": 0,
              "ticks": ""
             }
            },
            "type": "scatterpolar"
           }
          ],
          "scatterpolargl": [
           {
            "marker": {
             "colorbar": {
              "outlinewidth": 0,
              "ticks": ""
             }
            },
            "type": "scatterpolargl"
           }
          ],
          "scatterternary": [
           {
            "marker": {
             "colorbar": {
              "outlinewidth": 0,
              "ticks": ""
             }
            },
            "type": "scatterternary"
           }
          ],
          "surface": [
           {
            "colorbar": {
             "outlinewidth": 0,
             "ticks": ""
            },
            "colorscale": [
             [
              0,
              "#0d0887"
             ],
             [
              0.1111111111111111,
              "#46039f"
             ],
             [
              0.2222222222222222,
              "#7201a8"
             ],
             [
              0.3333333333333333,
              "#9c179e"
             ],
             [
              0.4444444444444444,
              "#bd3786"
             ],
             [
              0.5555555555555556,
              "#d8576b"
             ],
             [
              0.6666666666666666,
              "#ed7953"
             ],
             [
              0.7777777777777778,
              "#fb9f3a"
             ],
             [
              0.8888888888888888,
              "#fdca26"
             ],
             [
              1,
              "#f0f921"
             ]
            ],
            "type": "surface"
           }
          ],
          "table": [
           {
            "cells": {
             "fill": {
              "color": "#EBF0F8"
             },
             "line": {
              "color": "white"
             }
            },
            "header": {
             "fill": {
              "color": "#C8D4E3"
             },
             "line": {
              "color": "white"
             }
            },
            "type": "table"
           }
          ]
         },
         "layout": {
          "annotationdefaults": {
           "arrowcolor": "#2a3f5f",
           "arrowhead": 0,
           "arrowwidth": 1
          },
          "autotypenumbers": "strict",
          "coloraxis": {
           "colorbar": {
            "outlinewidth": 0,
            "ticks": ""
           }
          },
          "colorscale": {
           "diverging": [
            [
             0,
             "#8e0152"
            ],
            [
             0.1,
             "#c51b7d"
            ],
            [
             0.2,
             "#de77ae"
            ],
            [
             0.3,
             "#f1b6da"
            ],
            [
             0.4,
             "#fde0ef"
            ],
            [
             0.5,
             "#f7f7f7"
            ],
            [
             0.6,
             "#e6f5d0"
            ],
            [
             0.7,
             "#b8e186"
            ],
            [
             0.8,
             "#7fbc41"
            ],
            [
             0.9,
             "#4d9221"
            ],
            [
             1,
             "#276419"
            ]
           ],
           "sequential": [
            [
             0,
             "#0d0887"
            ],
            [
             0.1111111111111111,
             "#46039f"
            ],
            [
             0.2222222222222222,
             "#7201a8"
            ],
            [
             0.3333333333333333,
             "#9c179e"
            ],
            [
             0.4444444444444444,
             "#bd3786"
            ],
            [
             0.5555555555555556,
             "#d8576b"
            ],
            [
             0.6666666666666666,
             "#ed7953"
            ],
            [
             0.7777777777777778,
             "#fb9f3a"
            ],
            [
             0.8888888888888888,
             "#fdca26"
            ],
            [
             1,
             "#f0f921"
            ]
           ],
           "sequentialminus": [
            [
             0,
             "#0d0887"
            ],
            [
             0.1111111111111111,
             "#46039f"
            ],
            [
             0.2222222222222222,
             "#7201a8"
            ],
            [
             0.3333333333333333,
             "#9c179e"
            ],
            [
             0.4444444444444444,
             "#bd3786"
            ],
            [
             0.5555555555555556,
             "#d8576b"
            ],
            [
             0.6666666666666666,
             "#ed7953"
            ],
            [
             0.7777777777777778,
             "#fb9f3a"
            ],
            [
             0.8888888888888888,
             "#fdca26"
            ],
            [
             1,
             "#f0f921"
            ]
           ]
          },
          "colorway": [
           "#636efa",
           "#EF553B",
           "#00cc96",
           "#ab63fa",
           "#FFA15A",
           "#19d3f3",
           "#FF6692",
           "#B6E880",
           "#FF97FF",
           "#FECB52"
          ],
          "font": {
           "color": "#2a3f5f"
          },
          "geo": {
           "bgcolor": "white",
           "lakecolor": "white",
           "landcolor": "#E5ECF6",
           "showlakes": true,
           "showland": true,
           "subunitcolor": "white"
          },
          "hoverlabel": {
           "align": "left"
          },
          "hovermode": "closest",
          "mapbox": {
           "style": "light"
          },
          "paper_bgcolor": "white",
          "plot_bgcolor": "#E5ECF6",
          "polar": {
           "angularaxis": {
            "gridcolor": "white",
            "linecolor": "white",
            "ticks": ""
           },
           "bgcolor": "#E5ECF6",
           "radialaxis": {
            "gridcolor": "white",
            "linecolor": "white",
            "ticks": ""
           }
          },
          "scene": {
           "xaxis": {
            "backgroundcolor": "#E5ECF6",
            "gridcolor": "white",
            "gridwidth": 2,
            "linecolor": "white",
            "showbackground": true,
            "ticks": "",
            "zerolinecolor": "white"
           },
           "yaxis": {
            "backgroundcolor": "#E5ECF6",
            "gridcolor": "white",
            "gridwidth": 2,
            "linecolor": "white",
            "showbackground": true,
            "ticks": "",
            "zerolinecolor": "white"
           },
           "zaxis": {
            "backgroundcolor": "#E5ECF6",
            "gridcolor": "white",
            "gridwidth": 2,
            "linecolor": "white",
            "showbackground": true,
            "ticks": "",
            "zerolinecolor": "white"
           }
          },
          "shapedefaults": {
           "line": {
            "color": "#2a3f5f"
           }
          },
          "ternary": {
           "aaxis": {
            "gridcolor": "white",
            "linecolor": "white",
            "ticks": ""
           },
           "baxis": {
            "gridcolor": "white",
            "linecolor": "white",
            "ticks": ""
           },
           "bgcolor": "#E5ECF6",
           "caxis": {
            "gridcolor": "white",
            "linecolor": "white",
            "ticks": ""
           }
          },
          "title": {
           "x": 0.05
          },
          "xaxis": {
           "automargin": true,
           "gridcolor": "white",
           "linecolor": "white",
           "ticks": "",
           "title": {
            "standoff": 15
           },
           "zerolinecolor": "white",
           "zerolinewidth": 2
          },
          "yaxis": {
           "automargin": true,
           "gridcolor": "white",
           "linecolor": "white",
           "ticks": "",
           "title": {
            "standoff": 15
           },
           "zerolinecolor": "white",
           "zerolinewidth": 2
          }
         }
        },
        "title": {
         "text": "🎵 Artist Collaboration Network"
        },
        "width": 1200
       }
      }
     },
     "metadata": {},
     "output_type": "display_data"
    }
   ],
   "source": [
    "# Compute positions for NetworkX graph with increased spacing\n",
    "pos = nx.spring_layout(G_filtered, seed=42, k=0.3, iterations=100)\n",
    "\n",
    "# Extract node positions\n",
    "node_x = [pos[node][0] for node in G_filtered.nodes()]\n",
    "node_y = [pos[node][1] for node in G_filtered.nodes()]\n",
    "\n",
    "# Create figure\n",
    "fig = go.Figure()\n",
    "\n",
    "# Add edges (collaborations)\n",
    "edge_x, edge_y = [], []\n",
    "for edge in G_filtered.edges():\n",
    "    x0, y0 = pos[edge[0]]\n",
    "    x1, y1 = pos[edge[1]]\n",
    "    edge_x.extend([x0, x1, None])\n",
    "    edge_y.extend([y0, y1, None])\n",
    "\n",
    "fig.add_trace(go.Scatter(\n",
    "    x=edge_x, y=edge_y,\n",
    "    line=dict(width=0.5, color='#888'),\n",
    "    hoverinfo='none',\n",
    "    mode='lines'\n",
    "))\n",
    "\n",
    "# Add nodes (artists, colored by community)\n",
    "community_colors = {community: f\"#{random.randint(0, 0xFFFFFF):06x}\" for community in set(partition.values())}\n",
    "node_colors = [community_colors[partition[node]] for node in G_filtered.nodes()]\n",
    "fig.add_trace(go.Scatter(\n",
    "    x=node_x, y=node_y, mode=\"markers\",\n",
    "    marker=dict(color=node_colors, size=10),\n",
    "    text=[f\"{node}\" for node in G_filtered.nodes()],\n",
    "    hoverinfo=\"text\"\n",
    "))\n",
    "\n",
    "fig.update_layout(\n",
    "    showlegend=False,\n",
    "    hovermode=\"closest\", \n",
    "    title=\"🎵 Artist Collaboration Network\",\n",
    "    width=1200,  # Set the width of the figure\n",
    "    height=800   # Set the height of the figure\n",
    ")\n",
    "fig.show()"
   ]
  }
 ],
 "metadata": {
  "kernelspec": {
   "display_name": "Python 3",
   "language": "python",
   "name": "python3"
  },
  "language_info": {
   "codemirror_mode": {
    "name": "ipython",
    "version": 3
   },
   "file_extension": ".py",
   "mimetype": "text/x-python",
   "name": "python",
   "nbconvert_exporter": "python",
   "pygments_lexer": "ipython3",
   "version": "3.13.1"
  }
 },
 "nbformat": 4,
 "nbformat_minor": 2
}
